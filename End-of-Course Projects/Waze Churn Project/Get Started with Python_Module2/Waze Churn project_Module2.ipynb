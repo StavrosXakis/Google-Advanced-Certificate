{
 "cells": [
  {
   "cell_type": "markdown",
   "metadata": {
    "id": "DtNBZFHO3M7n"
   },
   "source": [
    "# **Waze User Churn Project**"
   ]
  },
  {
   "cell_type": "markdown",
   "metadata": {
    "id": "D4WK_AxP_S__"
   },
   "source": [
    "### **Task 1. Imports and data loading**\n",
    "\n",
    "We import the packages that we will need to load and explore the dataset."
   ]
  },
  {
   "cell_type": "code",
   "execution_count": 1,
   "metadata": {
    "id": "OZSXM4q5zrQh"
   },
   "outputs": [],
   "source": [
    "# Import packages for data manipulation\n",
    "import pandas as pd\n",
    "import numpy as np"
   ]
  },
  {
   "cell_type": "markdown",
   "metadata": {
    "id": "2-hT-EQA67v3"
   },
   "source": [
    "Then, we load the dataset into a dataframe. Creating a dataframe helps me conduct data manipulation, exploratory data analysis (EDA), and statistical activities."
   ]
  },
  {
   "cell_type": "code",
   "execution_count": 2,
   "metadata": {
    "id": "e3GJzjuM7AEg"
   },
   "outputs": [],
   "source": [
    "# Loading the dataset into a dataframe.\n",
    "df = pd.read_csv('waze_dataset.csv')"
   ]
  },
  {
   "cell_type": "markdown",
   "metadata": {
    "id": "gYx1emvno7U_"
   },
   "source": [
    "### **Task 2. Summary information**\n",
    "\n",
    "We can view and inspect summary information about the dataframe:\n",
    "\n",
    "*We can begin by considering the following questions:*\n",
    "\n",
    "1. What are the data types? \n",
    "\n",
    "2. How many rows and columns do we have?\n",
    "\n",
    "2. Does the dataset have any missing values?"
   ]
  },
  {
   "cell_type": "code",
   "execution_count": 3,
   "metadata": {},
   "outputs": [
    {
     "data": {
      "text/html": [
       "<div>\n",
       "<style scoped>\n",
       "    .dataframe tbody tr th:only-of-type {\n",
       "        vertical-align: middle;\n",
       "    }\n",
       "\n",
       "    .dataframe tbody tr th {\n",
       "        vertical-align: top;\n",
       "    }\n",
       "\n",
       "    .dataframe thead th {\n",
       "        text-align: right;\n",
       "    }\n",
       "</style>\n",
       "<table border=\"1\" class=\"dataframe\">\n",
       "  <thead>\n",
       "    <tr style=\"text-align: right;\">\n",
       "      <th></th>\n",
       "      <th>ID</th>\n",
       "      <th>label</th>\n",
       "      <th>sessions</th>\n",
       "      <th>drives</th>\n",
       "      <th>total_sessions</th>\n",
       "      <th>n_days_after_onboarding</th>\n",
       "      <th>total_navigations_fav1</th>\n",
       "      <th>total_navigations_fav2</th>\n",
       "      <th>driven_km_drives</th>\n",
       "      <th>duration_minutes_drives</th>\n",
       "      <th>activity_days</th>\n",
       "      <th>driving_days</th>\n",
       "      <th>device</th>\n",
       "    </tr>\n",
       "  </thead>\n",
       "  <tbody>\n",
       "    <tr>\n",
       "      <th>0</th>\n",
       "      <td>0</td>\n",
       "      <td>retained</td>\n",
       "      <td>283</td>\n",
       "      <td>226</td>\n",
       "      <td>296.748273</td>\n",
       "      <td>2276</td>\n",
       "      <td>208</td>\n",
       "      <td>0</td>\n",
       "      <td>2628.845068</td>\n",
       "      <td>1985.775061</td>\n",
       "      <td>28</td>\n",
       "      <td>19</td>\n",
       "      <td>Android</td>\n",
       "    </tr>\n",
       "    <tr>\n",
       "      <th>1</th>\n",
       "      <td>1</td>\n",
       "      <td>retained</td>\n",
       "      <td>133</td>\n",
       "      <td>107</td>\n",
       "      <td>326.896596</td>\n",
       "      <td>1225</td>\n",
       "      <td>19</td>\n",
       "      <td>64</td>\n",
       "      <td>13715.920550</td>\n",
       "      <td>3160.472914</td>\n",
       "      <td>13</td>\n",
       "      <td>11</td>\n",
       "      <td>iPhone</td>\n",
       "    </tr>\n",
       "    <tr>\n",
       "      <th>2</th>\n",
       "      <td>2</td>\n",
       "      <td>retained</td>\n",
       "      <td>114</td>\n",
       "      <td>95</td>\n",
       "      <td>135.522926</td>\n",
       "      <td>2651</td>\n",
       "      <td>0</td>\n",
       "      <td>0</td>\n",
       "      <td>3059.148818</td>\n",
       "      <td>1610.735904</td>\n",
       "      <td>14</td>\n",
       "      <td>8</td>\n",
       "      <td>Android</td>\n",
       "    </tr>\n",
       "    <tr>\n",
       "      <th>3</th>\n",
       "      <td>3</td>\n",
       "      <td>retained</td>\n",
       "      <td>49</td>\n",
       "      <td>40</td>\n",
       "      <td>67.589221</td>\n",
       "      <td>15</td>\n",
       "      <td>322</td>\n",
       "      <td>7</td>\n",
       "      <td>913.591123</td>\n",
       "      <td>587.196542</td>\n",
       "      <td>7</td>\n",
       "      <td>3</td>\n",
       "      <td>iPhone</td>\n",
       "    </tr>\n",
       "    <tr>\n",
       "      <th>4</th>\n",
       "      <td>4</td>\n",
       "      <td>retained</td>\n",
       "      <td>84</td>\n",
       "      <td>68</td>\n",
       "      <td>168.247020</td>\n",
       "      <td>1562</td>\n",
       "      <td>166</td>\n",
       "      <td>5</td>\n",
       "      <td>3950.202008</td>\n",
       "      <td>1219.555924</td>\n",
       "      <td>27</td>\n",
       "      <td>18</td>\n",
       "      <td>Android</td>\n",
       "    </tr>\n",
       "    <tr>\n",
       "      <th>5</th>\n",
       "      <td>5</td>\n",
       "      <td>retained</td>\n",
       "      <td>113</td>\n",
       "      <td>103</td>\n",
       "      <td>279.544437</td>\n",
       "      <td>2637</td>\n",
       "      <td>0</td>\n",
       "      <td>0</td>\n",
       "      <td>901.238698</td>\n",
       "      <td>439.101397</td>\n",
       "      <td>15</td>\n",
       "      <td>11</td>\n",
       "      <td>iPhone</td>\n",
       "    </tr>\n",
       "    <tr>\n",
       "      <th>6</th>\n",
       "      <td>6</td>\n",
       "      <td>retained</td>\n",
       "      <td>3</td>\n",
       "      <td>2</td>\n",
       "      <td>236.725314</td>\n",
       "      <td>360</td>\n",
       "      <td>185</td>\n",
       "      <td>18</td>\n",
       "      <td>5249.172828</td>\n",
       "      <td>726.577205</td>\n",
       "      <td>28</td>\n",
       "      <td>23</td>\n",
       "      <td>iPhone</td>\n",
       "    </tr>\n",
       "    <tr>\n",
       "      <th>7</th>\n",
       "      <td>7</td>\n",
       "      <td>retained</td>\n",
       "      <td>39</td>\n",
       "      <td>35</td>\n",
       "      <td>176.072845</td>\n",
       "      <td>2999</td>\n",
       "      <td>0</td>\n",
       "      <td>0</td>\n",
       "      <td>7892.052468</td>\n",
       "      <td>2466.981741</td>\n",
       "      <td>22</td>\n",
       "      <td>20</td>\n",
       "      <td>iPhone</td>\n",
       "    </tr>\n",
       "    <tr>\n",
       "      <th>8</th>\n",
       "      <td>8</td>\n",
       "      <td>retained</td>\n",
       "      <td>57</td>\n",
       "      <td>46</td>\n",
       "      <td>183.532018</td>\n",
       "      <td>424</td>\n",
       "      <td>0</td>\n",
       "      <td>26</td>\n",
       "      <td>2651.709764</td>\n",
       "      <td>1594.342984</td>\n",
       "      <td>25</td>\n",
       "      <td>20</td>\n",
       "      <td>Android</td>\n",
       "    </tr>\n",
       "    <tr>\n",
       "      <th>9</th>\n",
       "      <td>9</td>\n",
       "      <td>churned</td>\n",
       "      <td>84</td>\n",
       "      <td>68</td>\n",
       "      <td>244.802115</td>\n",
       "      <td>2997</td>\n",
       "      <td>72</td>\n",
       "      <td>0</td>\n",
       "      <td>6043.460295</td>\n",
       "      <td>2341.838528</td>\n",
       "      <td>7</td>\n",
       "      <td>3</td>\n",
       "      <td>iPhone</td>\n",
       "    </tr>\n",
       "  </tbody>\n",
       "</table>\n",
       "</div>"
      ],
      "text/plain": [
       "   ID     label  sessions  drives  total_sessions  n_days_after_onboarding  \\\n",
       "0   0  retained       283     226      296.748273                     2276   \n",
       "1   1  retained       133     107      326.896596                     1225   \n",
       "2   2  retained       114      95      135.522926                     2651   \n",
       "3   3  retained        49      40       67.589221                       15   \n",
       "4   4  retained        84      68      168.247020                     1562   \n",
       "5   5  retained       113     103      279.544437                     2637   \n",
       "6   6  retained         3       2      236.725314                      360   \n",
       "7   7  retained        39      35      176.072845                     2999   \n",
       "8   8  retained        57      46      183.532018                      424   \n",
       "9   9   churned        84      68      244.802115                     2997   \n",
       "\n",
       "   total_navigations_fav1  total_navigations_fav2  driven_km_drives  \\\n",
       "0                     208                       0       2628.845068   \n",
       "1                      19                      64      13715.920550   \n",
       "2                       0                       0       3059.148818   \n",
       "3                     322                       7        913.591123   \n",
       "4                     166                       5       3950.202008   \n",
       "5                       0                       0        901.238698   \n",
       "6                     185                      18       5249.172828   \n",
       "7                       0                       0       7892.052468   \n",
       "8                       0                      26       2651.709764   \n",
       "9                      72                       0       6043.460295   \n",
       "\n",
       "   duration_minutes_drives  activity_days  driving_days   device  \n",
       "0              1985.775061             28            19  Android  \n",
       "1              3160.472914             13            11   iPhone  \n",
       "2              1610.735904             14             8  Android  \n",
       "3               587.196542              7             3   iPhone  \n",
       "4              1219.555924             27            18  Android  \n",
       "5               439.101397             15            11   iPhone  \n",
       "6               726.577205             28            23   iPhone  \n",
       "7              2466.981741             22            20   iPhone  \n",
       "8              1594.342984             25            20  Android  \n",
       "9              2341.838528              7             3   iPhone  "
      ]
     },
     "execution_count": 3,
     "metadata": {},
     "output_type": "execute_result"
    }
   ],
   "source": [
    "# Printing a sample of my data frame to examine its appearance and available variables.\n",
    "df.head(10)"
   ]
  },
  {
   "cell_type": "code",
   "execution_count": 4,
   "metadata": {
    "id": "t7Nck2hh4R6J",
    "scrolled": true
   },
   "outputs": [
    {
     "name": "stdout",
     "output_type": "stream",
     "text": [
      "<class 'pandas.core.frame.DataFrame'>\n",
      "RangeIndex: 14999 entries, 0 to 14998\n",
      "Data columns (total 13 columns):\n",
      " #   Column                   Non-Null Count  Dtype  \n",
      "---  ------                   --------------  -----  \n",
      " 0   ID                       14999 non-null  int64  \n",
      " 1   label                    14299 non-null  object \n",
      " 2   sessions                 14999 non-null  int64  \n",
      " 3   drives                   14999 non-null  int64  \n",
      " 4   total_sessions           14999 non-null  float64\n",
      " 5   n_days_after_onboarding  14999 non-null  int64  \n",
      " 6   total_navigations_fav1   14999 non-null  int64  \n",
      " 7   total_navigations_fav2   14999 non-null  int64  \n",
      " 8   driven_km_drives         14999 non-null  float64\n",
      " 9   duration_minutes_drives  14999 non-null  float64\n",
      " 10  activity_days            14999 non-null  int64  \n",
      " 11  driving_days             14999 non-null  int64  \n",
      " 12  device                   14999 non-null  object \n",
      "dtypes: float64(3), int64(8), object(2)\n",
      "memory usage: 1.5+ MB\n"
     ]
    }
   ],
   "source": [
    "# Exploring the data frame for data types, number of columns & rows, memory usage, as well as evidence of NaN values.\n",
    "df.info()"
   ]
  },
  {
   "cell_type": "code",
   "execution_count": 5,
   "metadata": {},
   "outputs": [
    {
     "data": {
      "text/plain": [
       "ID                           0\n",
       "label                      700\n",
       "sessions                     0\n",
       "drives                       0\n",
       "total_sessions               0\n",
       "n_days_after_onboarding      0\n",
       "total_navigations_fav1       0\n",
       "total_navigations_fav2       0\n",
       "driven_km_drives             0\n",
       "duration_minutes_drives      0\n",
       "activity_days                0\n",
       "driving_days                 0\n",
       "device                       0\n",
       "dtype: int64"
      ]
     },
     "execution_count": 5,
     "metadata": {},
     "output_type": "execute_result"
    }
   ],
   "source": [
    "# Indicating the number of NaNs per variable\n",
    "df.isna().sum()"
   ]
  },
  {
   "cell_type": "code",
   "execution_count": 6,
   "metadata": {},
   "outputs": [
    {
     "data": {
      "text/plain": [
       "700"
      ]
     },
     "execution_count": 6,
     "metadata": {},
     "output_type": "execute_result"
    }
   ],
   "source": [
    "# Pointing out the total numbers of NaNs in my data frame.\n",
    "df.isna().sum().sum()"
   ]
  },
  {
   "cell_type": "markdown",
   "metadata": {
    "id": "JscqNfr6ZVsE"
   },
   "source": [
    "**Answers:** \n",
    "\n",
    ">1) We have multiple data types as our dataset is consists of 8 integers and 3 float numbers, as well as 2 strings (objects).\n",
    "\n",
    ">2) Using the .info() method, we can see that we have available data for 13 variables with a total of 14999 entries. Important to notice that the 'label' variable has fewer \n",
    "    entries indicating missing values in its rows.\n",
    "\n",
    ">2) We have NaNs in the 'label' column. Specifically, 700 rows are empty. This variable indicates the customer's status revealing if he is churned or not. Since the main objective of the project is to analyze the customers based on this status, then due to important missing information we could clear the nulls in the dataset by rows."
   ]
  },
  {
   "cell_type": "markdown",
   "metadata": {
    "id": "BMNnIoc51_1N"
   },
   "source": [
    "### **Task 3. Null values and summary statistics**\n",
    "\n",
    "We now compare the summary statistics of the 700 rows that are missing labels with summary statistics of the rows that are not missing any values.\n",
    "\n",
    "Our goal is to find the answer to the **question:**\n",
    "\n",
    "Is there a discernible difference between the two populations?\n"
   ]
  },
  {
   "cell_type": "code",
   "execution_count": 7,
   "metadata": {
    "id": "bAQeHW-d2S1-"
   },
   "outputs": [
    {
     "data": {
      "text/html": [
       "<div>\n",
       "<style scoped>\n",
       "    .dataframe tbody tr th:only-of-type {\n",
       "        vertical-align: middle;\n",
       "    }\n",
       "\n",
       "    .dataframe tbody tr th {\n",
       "        vertical-align: top;\n",
       "    }\n",
       "\n",
       "    .dataframe thead th {\n",
       "        text-align: right;\n",
       "    }\n",
       "</style>\n",
       "<table border=\"1\" class=\"dataframe\">\n",
       "  <thead>\n",
       "    <tr style=\"text-align: right;\">\n",
       "      <th></th>\n",
       "      <th>ID</th>\n",
       "      <th>sessions</th>\n",
       "      <th>drives</th>\n",
       "      <th>total_sessions</th>\n",
       "      <th>n_days_after_onboarding</th>\n",
       "      <th>total_navigations_fav1</th>\n",
       "      <th>total_navigations_fav2</th>\n",
       "      <th>driven_km_drives</th>\n",
       "      <th>duration_minutes_drives</th>\n",
       "      <th>activity_days</th>\n",
       "      <th>driving_days</th>\n",
       "    </tr>\n",
       "  </thead>\n",
       "  <tbody>\n",
       "    <tr>\n",
       "      <th>count</th>\n",
       "      <td>700.00</td>\n",
       "      <td>700.00</td>\n",
       "      <td>700.00</td>\n",
       "      <td>700.00</td>\n",
       "      <td>700.00</td>\n",
       "      <td>700.00</td>\n",
       "      <td>700.00</td>\n",
       "      <td>700.00</td>\n",
       "      <td>700.00</td>\n",
       "      <td>700.00</td>\n",
       "      <td>700.00</td>\n",
       "    </tr>\n",
       "    <tr>\n",
       "      <th>mean</th>\n",
       "      <td>7405.58</td>\n",
       "      <td>80.84</td>\n",
       "      <td>67.80</td>\n",
       "      <td>198.48</td>\n",
       "      <td>1709.30</td>\n",
       "      <td>118.72</td>\n",
       "      <td>30.37</td>\n",
       "      <td>3935.97</td>\n",
       "      <td>1795.12</td>\n",
       "      <td>15.38</td>\n",
       "      <td>12.13</td>\n",
       "    </tr>\n",
       "    <tr>\n",
       "      <th>std</th>\n",
       "      <td>4306.90</td>\n",
       "      <td>79.99</td>\n",
       "      <td>65.27</td>\n",
       "      <td>140.56</td>\n",
       "      <td>1005.31</td>\n",
       "      <td>156.31</td>\n",
       "      <td>46.31</td>\n",
       "      <td>2443.11</td>\n",
       "      <td>1419.24</td>\n",
       "      <td>8.77</td>\n",
       "      <td>7.63</td>\n",
       "    </tr>\n",
       "    <tr>\n",
       "      <th>min</th>\n",
       "      <td>77.00</td>\n",
       "      <td>0.00</td>\n",
       "      <td>0.00</td>\n",
       "      <td>5.58</td>\n",
       "      <td>16.00</td>\n",
       "      <td>0.00</td>\n",
       "      <td>0.00</td>\n",
       "      <td>290.12</td>\n",
       "      <td>66.59</td>\n",
       "      <td>0.00</td>\n",
       "      <td>0.00</td>\n",
       "    </tr>\n",
       "    <tr>\n",
       "      <th>25%</th>\n",
       "      <td>3744.50</td>\n",
       "      <td>23.00</td>\n",
       "      <td>20.00</td>\n",
       "      <td>94.06</td>\n",
       "      <td>869.00</td>\n",
       "      <td>4.00</td>\n",
       "      <td>0.00</td>\n",
       "      <td>2119.34</td>\n",
       "      <td>779.01</td>\n",
       "      <td>8.00</td>\n",
       "      <td>6.00</td>\n",
       "    </tr>\n",
       "    <tr>\n",
       "      <th>50%</th>\n",
       "      <td>7443.00</td>\n",
       "      <td>56.00</td>\n",
       "      <td>47.50</td>\n",
       "      <td>177.26</td>\n",
       "      <td>1650.50</td>\n",
       "      <td>62.50</td>\n",
       "      <td>10.00</td>\n",
       "      <td>3421.16</td>\n",
       "      <td>1414.97</td>\n",
       "      <td>15.00</td>\n",
       "      <td>12.00</td>\n",
       "    </tr>\n",
       "    <tr>\n",
       "      <th>75%</th>\n",
       "      <td>11007.00</td>\n",
       "      <td>112.25</td>\n",
       "      <td>94.00</td>\n",
       "      <td>266.06</td>\n",
       "      <td>2508.75</td>\n",
       "      <td>169.25</td>\n",
       "      <td>43.00</td>\n",
       "      <td>5166.10</td>\n",
       "      <td>2443.96</td>\n",
       "      <td>23.00</td>\n",
       "      <td>18.00</td>\n",
       "    </tr>\n",
       "    <tr>\n",
       "      <th>max</th>\n",
       "      <td>14993.00</td>\n",
       "      <td>556.00</td>\n",
       "      <td>445.00</td>\n",
       "      <td>1076.88</td>\n",
       "      <td>3498.00</td>\n",
       "      <td>1096.00</td>\n",
       "      <td>352.00</td>\n",
       "      <td>15135.39</td>\n",
       "      <td>9746.25</td>\n",
       "      <td>31.00</td>\n",
       "      <td>30.00</td>\n",
       "    </tr>\n",
       "  </tbody>\n",
       "</table>\n",
       "</div>"
      ],
      "text/plain": [
       "             ID  sessions  drives  total_sessions  n_days_after_onboarding  \\\n",
       "count    700.00    700.00  700.00          700.00                   700.00   \n",
       "mean    7405.58     80.84   67.80          198.48                  1709.30   \n",
       "std     4306.90     79.99   65.27          140.56                  1005.31   \n",
       "min       77.00      0.00    0.00            5.58                    16.00   \n",
       "25%     3744.50     23.00   20.00           94.06                   869.00   \n",
       "50%     7443.00     56.00   47.50          177.26                  1650.50   \n",
       "75%    11007.00    112.25   94.00          266.06                  2508.75   \n",
       "max    14993.00    556.00  445.00         1076.88                  3498.00   \n",
       "\n",
       "       total_navigations_fav1  total_navigations_fav2  driven_km_drives  \\\n",
       "count                  700.00                  700.00            700.00   \n",
       "mean                   118.72                   30.37           3935.97   \n",
       "std                    156.31                   46.31           2443.11   \n",
       "min                      0.00                    0.00            290.12   \n",
       "25%                      4.00                    0.00           2119.34   \n",
       "50%                     62.50                   10.00           3421.16   \n",
       "75%                    169.25                   43.00           5166.10   \n",
       "max                   1096.00                  352.00          15135.39   \n",
       "\n",
       "       duration_minutes_drives  activity_days  driving_days  \n",
       "count                   700.00         700.00        700.00  \n",
       "mean                   1795.12          15.38         12.13  \n",
       "std                    1419.24           8.77          7.63  \n",
       "min                      66.59           0.00          0.00  \n",
       "25%                     779.01           8.00          6.00  \n",
       "50%                    1414.97          15.00         12.00  \n",
       "75%                    2443.96          23.00         18.00  \n",
       "max                    9746.25          31.00         30.00  "
      ]
     },
     "execution_count": 7,
     "metadata": {},
     "output_type": "execute_result"
    }
   ],
   "source": [
    "# Isolating rows with null values\n",
    "df_na = df.loc[df['label'].isna()]\n",
    "# Displaying summary stats of rows with null values\n",
    "df_na.describe().round(2)"
   ]
  },
  {
   "cell_type": "code",
   "execution_count": 8,
   "metadata": {
    "id": "W77hp8q3w-zi"
   },
   "outputs": [
    {
     "data": {
      "text/html": [
       "<div>\n",
       "<style scoped>\n",
       "    .dataframe tbody tr th:only-of-type {\n",
       "        vertical-align: middle;\n",
       "    }\n",
       "\n",
       "    .dataframe tbody tr th {\n",
       "        vertical-align: top;\n",
       "    }\n",
       "\n",
       "    .dataframe thead th {\n",
       "        text-align: right;\n",
       "    }\n",
       "</style>\n",
       "<table border=\"1\" class=\"dataframe\">\n",
       "  <thead>\n",
       "    <tr style=\"text-align: right;\">\n",
       "      <th></th>\n",
       "      <th>ID</th>\n",
       "      <th>sessions</th>\n",
       "      <th>drives</th>\n",
       "      <th>total_sessions</th>\n",
       "      <th>n_days_after_onboarding</th>\n",
       "      <th>total_navigations_fav1</th>\n",
       "      <th>total_navigations_fav2</th>\n",
       "      <th>driven_km_drives</th>\n",
       "      <th>duration_minutes_drives</th>\n",
       "      <th>activity_days</th>\n",
       "      <th>driving_days</th>\n",
       "    </tr>\n",
       "  </thead>\n",
       "  <tbody>\n",
       "    <tr>\n",
       "      <th>count</th>\n",
       "      <td>14299.00</td>\n",
       "      <td>14299.00</td>\n",
       "      <td>14299.00</td>\n",
       "      <td>14299.00</td>\n",
       "      <td>14299.00</td>\n",
       "      <td>14299.00</td>\n",
       "      <td>14299.00</td>\n",
       "      <td>14299.00</td>\n",
       "      <td>14299.00</td>\n",
       "      <td>14299.00</td>\n",
       "      <td>14299.00</td>\n",
       "    </tr>\n",
       "    <tr>\n",
       "      <th>mean</th>\n",
       "      <td>7503.57</td>\n",
       "      <td>80.62</td>\n",
       "      <td>67.26</td>\n",
       "      <td>189.55</td>\n",
       "      <td>1751.82</td>\n",
       "      <td>121.75</td>\n",
       "      <td>29.64</td>\n",
       "      <td>4044.40</td>\n",
       "      <td>1864.20</td>\n",
       "      <td>15.54</td>\n",
       "      <td>12.18</td>\n",
       "    </tr>\n",
       "    <tr>\n",
       "      <th>std</th>\n",
       "      <td>4331.21</td>\n",
       "      <td>80.74</td>\n",
       "      <td>65.95</td>\n",
       "      <td>136.19</td>\n",
       "      <td>1008.66</td>\n",
       "      <td>147.71</td>\n",
       "      <td>45.35</td>\n",
       "      <td>2504.98</td>\n",
       "      <td>1448.01</td>\n",
       "      <td>9.02</td>\n",
       "      <td>7.83</td>\n",
       "    </tr>\n",
       "    <tr>\n",
       "      <th>min</th>\n",
       "      <td>0.00</td>\n",
       "      <td>0.00</td>\n",
       "      <td>0.00</td>\n",
       "      <td>0.22</td>\n",
       "      <td>4.00</td>\n",
       "      <td>0.00</td>\n",
       "      <td>0.00</td>\n",
       "      <td>60.44</td>\n",
       "      <td>18.28</td>\n",
       "      <td>0.00</td>\n",
       "      <td>0.00</td>\n",
       "    </tr>\n",
       "    <tr>\n",
       "      <th>25%</th>\n",
       "      <td>3749.50</td>\n",
       "      <td>23.00</td>\n",
       "      <td>20.00</td>\n",
       "      <td>90.46</td>\n",
       "      <td>878.50</td>\n",
       "      <td>10.00</td>\n",
       "      <td>0.00</td>\n",
       "      <td>2217.32</td>\n",
       "      <td>840.18</td>\n",
       "      <td>8.00</td>\n",
       "      <td>5.00</td>\n",
       "    </tr>\n",
       "    <tr>\n",
       "      <th>50%</th>\n",
       "      <td>7504.00</td>\n",
       "      <td>56.00</td>\n",
       "      <td>48.00</td>\n",
       "      <td>158.72</td>\n",
       "      <td>1749.00</td>\n",
       "      <td>71.00</td>\n",
       "      <td>9.00</td>\n",
       "      <td>3496.55</td>\n",
       "      <td>1479.39</td>\n",
       "      <td>16.00</td>\n",
       "      <td>12.00</td>\n",
       "    </tr>\n",
       "    <tr>\n",
       "      <th>75%</th>\n",
       "      <td>11257.50</td>\n",
       "      <td>111.00</td>\n",
       "      <td>93.00</td>\n",
       "      <td>253.54</td>\n",
       "      <td>2627.50</td>\n",
       "      <td>178.00</td>\n",
       "      <td>43.00</td>\n",
       "      <td>5299.97</td>\n",
       "      <td>2466.93</td>\n",
       "      <td>23.00</td>\n",
       "      <td>19.00</td>\n",
       "    </tr>\n",
       "    <tr>\n",
       "      <th>max</th>\n",
       "      <td>14998.00</td>\n",
       "      <td>743.00</td>\n",
       "      <td>596.00</td>\n",
       "      <td>1216.15</td>\n",
       "      <td>3500.00</td>\n",
       "      <td>1236.00</td>\n",
       "      <td>415.00</td>\n",
       "      <td>21183.40</td>\n",
       "      <td>15851.73</td>\n",
       "      <td>31.00</td>\n",
       "      <td>30.00</td>\n",
       "    </tr>\n",
       "  </tbody>\n",
       "</table>\n",
       "</div>"
      ],
      "text/plain": [
       "             ID  sessions    drives  total_sessions  n_days_after_onboarding  \\\n",
       "count  14299.00  14299.00  14299.00        14299.00                 14299.00   \n",
       "mean    7503.57     80.62     67.26          189.55                  1751.82   \n",
       "std     4331.21     80.74     65.95          136.19                  1008.66   \n",
       "min        0.00      0.00      0.00            0.22                     4.00   \n",
       "25%     3749.50     23.00     20.00           90.46                   878.50   \n",
       "50%     7504.00     56.00     48.00          158.72                  1749.00   \n",
       "75%    11257.50    111.00     93.00          253.54                  2627.50   \n",
       "max    14998.00    743.00    596.00         1216.15                  3500.00   \n",
       "\n",
       "       total_navigations_fav1  total_navigations_fav2  driven_km_drives  \\\n",
       "count                14299.00                14299.00          14299.00   \n",
       "mean                   121.75                   29.64           4044.40   \n",
       "std                    147.71                   45.35           2504.98   \n",
       "min                      0.00                    0.00             60.44   \n",
       "25%                     10.00                    0.00           2217.32   \n",
       "50%                     71.00                    9.00           3496.55   \n",
       "75%                    178.00                   43.00           5299.97   \n",
       "max                   1236.00                  415.00          21183.40   \n",
       "\n",
       "       duration_minutes_drives  activity_days  driving_days  \n",
       "count                 14299.00       14299.00      14299.00  \n",
       "mean                   1864.20          15.54         12.18  \n",
       "std                    1448.01           9.02          7.83  \n",
       "min                      18.28           0.00          0.00  \n",
       "25%                     840.18           8.00          5.00  \n",
       "50%                    1479.39          16.00         12.00  \n",
       "75%                    2466.93          23.00         19.00  \n",
       "max                   15851.73          31.00         30.00  "
      ]
     },
     "execution_count": 8,
     "metadata": {},
     "output_type": "execute_result"
    }
   ],
   "source": [
    "# Isolating rows without null values\n",
    "data = df.dropna()\n",
    "# Displaying summary stats of rows without null values\n",
    "data.describe().round(2)"
   ]
  },
  {
   "cell_type": "markdown",
   "metadata": {
    "id": "sJpXfBZUlWC5"
   },
   "source": [
    "**Answer:**  \n",
    ">Comparing summary statistics of the observations with missing retention labels with those that aren't missing any values reveals nothing remarkable. The means and standard deviations are fairly consistent between the two groups."
   ]
  },
  {
   "cell_type": "markdown",
   "metadata": {
    "id": "S2CupDgSlpm4"
   },
   "source": [
    "### **Task 4. Null values - device counts**\n",
    "\n",
    "Next, we check the two populations with respect to the `device` variable.\n",
    "\n",
    "Let's examine the **question:**\n",
    "\n",
    "How many iPhone users had null values and how many Android users had null values?"
   ]
  },
  {
   "cell_type": "code",
   "execution_count": 9,
   "metadata": {
    "id": "IbCnokO8lsq3"
   },
   "outputs": [
    {
     "data": {
      "text/plain": [
       "iPhone     447\n",
       "Android    253\n",
       "Name: device, dtype: int64"
      ]
     },
     "execution_count": 9,
     "metadata": {},
     "output_type": "execute_result"
    }
   ],
   "source": [
    "# Getting the count of null values by device\n",
    "df_na['device'].value_counts()"
   ]
  },
  {
   "cell_type": "markdown",
   "metadata": {
    "id": "JKfLfQQUltQk"
   },
   "source": [
    "**Answer:**  \n",
    ">We can see that from the 700 total null values, 447 users are using iPhone devices and 253 Android."
   ]
  },
  {
   "cell_type": "markdown",
   "metadata": {
    "id": "ajlCljYHmCTa"
   },
   "source": [
    "Now, of the rows with null values, we are calculating the percentage with each device -- Android and iPhone."
   ]
  },
  {
   "cell_type": "code",
   "execution_count": 10,
   "metadata": {
    "id": "ajlCljYHmCTa",
    "scrolled": true
   },
   "outputs": [
    {
     "name": "stdout",
     "output_type": "stream",
     "text": [
      "The percentage of iPhone devices in null values is:  0.64\n",
      "The percentage of Android devices in null values is:  0.36\n"
     ]
    }
   ],
   "source": [
    "# Calculating the % of iPhone nulls and Android nulls\n",
    "iPhone_na = df_na['device'].value_counts()['iPhone'] / df_na.shape[0]\n",
    "Android_na = df_na['device'].value_counts()['Android'] / df_na.shape[0]\n",
    "print('The percentage of iPhone devices in null values is: ',iPhone_na.round(2))\n",
    "print('The percentage of Android devices in null values is: ',Android_na.round(2))"
   ]
  },
  {
   "cell_type": "markdown",
   "metadata": {
    "id": "dA_ps_fA3xn9"
   },
   "source": [
    "Now let's examine, how does this compare to the device ratio in the full dataset?"
   ]
  },
  {
   "cell_type": "code",
   "execution_count": 11,
   "metadata": {
    "id": "Dm-qKyQNmCsQ"
   },
   "outputs": [
    {
     "data": {
      "text/plain": [
       "iPhone     9225\n",
       "Android    5074\n",
       "Name: device, dtype: int64"
      ]
     },
     "execution_count": 11,
     "metadata": {},
     "output_type": "execute_result"
    }
   ],
   "source": [
    "# Calculating the % of iPhone users and Android users in full dataset\n",
    "data.device.value_counts()"
   ]
  },
  {
   "cell_type": "code",
   "execution_count": 12,
   "metadata": {},
   "outputs": [
    {
     "name": "stdout",
     "output_type": "stream",
     "text": [
      "The percentage of iPhone devices in the full dataset w/o null values is:  0.65\n",
      "The percentage of Android devices in the full dataset w/o null values is:  0.35\n"
     ]
    }
   ],
   "source": [
    "# Below a cleaner way to present the relative frequencies of the unique values.\n",
    "iPhone = data.device.value_counts(normalize = True).iPhone\n",
    "Android = data.device.value_counts(normalize = True).Android\n",
    "print('The percentage of iPhone devices in the full dataset w/o null values is: ',iPhone.round(2))\n",
    "print('The percentage of Android devices in the full dataset w/o null values is: ',Android.round(2))"
   ]
  },
  {
   "cell_type": "markdown",
   "metadata": {
    "id": "eEIeGZdgmRh9"
   },
   "source": [
    "The percentage of missing values by each device is consistent with their representation in the data overall.\n",
    "\n",
    "There is nothing to suggest a non-random cause of the missing data."
   ]
  },
  {
   "cell_type": "markdown",
   "metadata": {
    "id": "uIzg4fXtmSTe"
   },
   "source": [
    "We continue by examining the counts and percentages of users who churned vs. those who were retained. \n",
    "\n",
    "Our **question** is:\n",
    "\n",
    "How many of each group are represented in the data?"
   ]
  },
  {
   "cell_type": "code",
   "execution_count": 13,
   "metadata": {},
   "outputs": [
    {
     "data": {
      "text/plain": [
       "array(['retained', 'churned'], dtype=object)"
      ]
     },
     "execution_count": 13,
     "metadata": {},
     "output_type": "execute_result"
    }
   ],
   "source": [
    "# As was said, the 'label' variable is a boolean variable representing only two aspects of our data.\n",
    "data['label'].unique()"
   ]
  },
  {
   "cell_type": "code",
   "execution_count": 14,
   "metadata": {},
   "outputs": [
    {
     "name": "stdout",
     "output_type": "stream",
     "text": [
      "the count of retained is:  11763\n",
      "the count of churned is:  2536\n"
     ]
    }
   ],
   "source": [
    "# Calculating the counts of churned vs. retained\n",
    "retained = data.label.value_counts().retained\n",
    "churned = data.label.value_counts().churned\n",
    "print('the count of retained is: ',retained)\n",
    "print('the count of churned is: ',churned)"
   ]
  },
  {
   "cell_type": "code",
   "execution_count": 15,
   "metadata": {},
   "outputs": [
    {
     "name": "stdout",
     "output_type": "stream",
     "text": [
      "the persentage of retained is:  0.82\n",
      "the persentage of churned is:  0.18\n"
     ]
    }
   ],
   "source": [
    "# Calculating the percentage representation of each label\n",
    "retained_pers = retained / data.shape[0]\n",
    "churned_pers = churned /data.shape[0]\n",
    "print('the persentage of retained is: ',round(retained_pers,2))\n",
    "print('the persentage of churned is: ',round(churned_pers,2))"
   ]
  },
  {
   "cell_type": "markdown",
   "metadata": {
    "id": "VYTZIIOKmfIz"
   },
   "source": [
    "This dataset contains 82% retained users and 18% churned users.\n",
    "\n",
    "Next, we compare the medians of each variable for churned and retained users. The reason for calculating the median and not the mean is that we don't want outliers to unduly affect the portrayal of a typical user. Notice, for example, that the maximum value in the `driven_km_drives` column is 21,183 km. That's more than half the circumference of the earth!"
   ]
  },
  {
   "cell_type": "code",
   "execution_count": 16,
   "metadata": {},
   "outputs": [
    {
     "data": {
      "image/png": "[encoded data removed]",
      "text/plain": [
       "<Figure size 1080x720 with 1 Axes>"
      ]
     },
     "metadata": {
      "needs_background": "light"
     },
     "output_type": "display_data"
    }
   ],
   "source": [
    "# let's take a quick pic of outliers in the 'driven_km_drives' variable:\n",
    "data.plot.scatter(x='ID',y='driven_km_drives',label='driven_km_drives per observation',figsize=(15,10))\n",
    "None"
   ]
  },
  {
   "cell_type": "code",
   "execution_count": 17,
   "metadata": {},
   "outputs": [
    {
     "data": {
      "image/png": "[encoded data removed]",
      "text/plain": [
       "<Figure size 1080x720 with 1 Axes>"
      ]
     },
     "metadata": {
      "needs_background": "light"
     },
     "output_type": "display_data"
    }
   ],
   "source": [
    "data[['driven_km_drives']].boxplot(figsize=(15,10))\n",
    "None"
   ]
  },
  {
   "cell_type": "markdown",
   "metadata": {},
   "source": [
    "# Calculating median values of all columns for churned and retained users"
   ]
  },
  {
   "cell_type": "code",
   "execution_count": 18,
   "metadata": {
    "id": "jzngebHRmmFA",
    "scrolled": true
   },
   "outputs": [
    {
     "data": {
      "text/html": [
       "<div>\n",
       "<style scoped>\n",
       "    .dataframe tbody tr th:only-of-type {\n",
       "        vertical-align: middle;\n",
       "    }\n",
       "\n",
       "    .dataframe tbody tr th {\n",
       "        vertical-align: top;\n",
       "    }\n",
       "\n",
       "    .dataframe thead th {\n",
       "        text-align: right;\n",
       "    }\n",
       "</style>\n",
       "<table border=\"1\" class=\"dataframe\">\n",
       "  <thead>\n",
       "    <tr style=\"text-align: right;\">\n",
       "      <th></th>\n",
       "      <th>ID</th>\n",
       "      <th>sessions</th>\n",
       "      <th>drives</th>\n",
       "      <th>total_sessions</th>\n",
       "      <th>n_days_after_onboarding</th>\n",
       "      <th>total_navigations_fav1</th>\n",
       "      <th>total_navigations_fav2</th>\n",
       "      <th>driven_km_drives</th>\n",
       "      <th>duration_minutes_drives</th>\n",
       "      <th>activity_days</th>\n",
       "      <th>driving_days</th>\n",
       "    </tr>\n",
       "    <tr>\n",
       "      <th>label</th>\n",
       "      <th></th>\n",
       "      <th></th>\n",
       "      <th></th>\n",
       "      <th></th>\n",
       "      <th></th>\n",
       "      <th></th>\n",
       "      <th></th>\n",
       "      <th></th>\n",
       "      <th></th>\n",
       "      <th></th>\n",
       "      <th></th>\n",
       "    </tr>\n",
       "  </thead>\n",
       "  <tbody>\n",
       "    <tr>\n",
       "      <th>churned</th>\n",
       "      <td>7477.5</td>\n",
       "      <td>59.0</td>\n",
       "      <td>50.0</td>\n",
       "      <td>164.34</td>\n",
       "      <td>1321.0</td>\n",
       "      <td>84.5</td>\n",
       "      <td>11.0</td>\n",
       "      <td>3652.66</td>\n",
       "      <td>1607.18</td>\n",
       "      <td>8.0</td>\n",
       "      <td>6.0</td>\n",
       "    </tr>\n",
       "    <tr>\n",
       "      <th>retained</th>\n",
       "      <td>7509.0</td>\n",
       "      <td>56.0</td>\n",
       "      <td>47.0</td>\n",
       "      <td>157.59</td>\n",
       "      <td>1843.0</td>\n",
       "      <td>68.0</td>\n",
       "      <td>9.0</td>\n",
       "      <td>3464.68</td>\n",
       "      <td>1458.05</td>\n",
       "      <td>17.0</td>\n",
       "      <td>14.0</td>\n",
       "    </tr>\n",
       "  </tbody>\n",
       "</table>\n",
       "</div>"
      ],
      "text/plain": [
       "              ID  sessions  drives  total_sessions  n_days_after_onboarding  \\\n",
       "label                                                                         \n",
       "churned   7477.5      59.0    50.0          164.34                   1321.0   \n",
       "retained  7509.0      56.0    47.0          157.59                   1843.0   \n",
       "\n",
       "          total_navigations_fav1  total_navigations_fav2  driven_km_drives  \\\n",
       "label                                                                        \n",
       "churned                     84.5                    11.0           3652.66   \n",
       "retained                    68.0                     9.0           3464.68   \n",
       "\n",
       "          duration_minutes_drives  activity_days  driving_days  \n",
       "label                                                           \n",
       "churned                   1607.18            8.0           6.0  \n",
       "retained                  1458.05           17.0          14.0  "
      ]
     },
     "execution_count": 18,
     "metadata": {},
     "output_type": "execute_result"
    }
   ],
   "source": [
    "# Grouping data by `label` and calculating the medians:\n",
    "med = data.groupby('label').median().round(2)\n",
    "med"
   ]
  },
  {
   "cell_type": "markdown",
   "metadata": {
    "id": "NvnPFKS3mm71"
   },
   "source": [
    "This offers an interesting snapshot of the two groups, churned vs. retained:\n",
    "\n",
    "Users who churned, averaged ~3 more drives in the last month than retained users, but retained users used the app on over twice as many days as churned users in the same time period.\n",
    "\n",
    "The median churned user drove ~200 more kilometers and 2.5 more hours during the last month than the median retained user.\n",
    "\n",
    "It seems that churned users had more drives in fewer days, and their trips were farther and longer in duration. Perhaps this is suggestive of a user profile."
   ]
  },
  {
   "cell_type": "markdown",
   "metadata": {
    "id": "cUAkU-JInALK"
   },
   "source": [
    "##### Calculating the median kilometers per drive in the last month for both retained and churned users."
   ]
  },
  {
   "cell_type": "code",
   "execution_count": 19,
   "metadata": {
    "id": "TVcP2PPhnBMZ"
   },
   "outputs": [
    {
     "name": "stdout",
     "output_type": "stream",
     "text": [
      "The median kilometers per drive in the last month for churned is:  73.05\n",
      "The median kilometers per drive in the last month for retained is:  73.72\n"
     ]
    }
   ],
   "source": [
    "# Dividing the median distance by median number of drives:\n",
    "km_per_drive_ch = med['driven_km_drives']['churned'] / med['drives']['churned']\n",
    "km_per_drive_ret = med['driven_km_drives']['retained'] / med['drives']['retained']\n",
    "\n",
    "print('The median kilometers per drive in the last month for churned is: ',round(km_per_drive_ch,2))\n",
    "print('The median kilometers per drive in the last month for retained is: ',round(km_per_drive_ret,2))"
   ]
  },
  {
   "cell_type": "markdown",
   "metadata": {
    "id": "C6VicaRVnFzq"
   },
   "source": [
    "The median user from both groups drove ~73 km/drive. \n",
    "\n",
    "The **question** is:\n",
    "\n",
    "How many kilometers per driving day was this?"
   ]
  },
  {
   "cell_type": "code",
   "execution_count": 20,
   "metadata": {
    "id": "I6lD33kfnGQb"
   },
   "outputs": [
    {
     "name": "stdout",
     "output_type": "stream",
     "text": [
      "The median distance per driving days in the last month for churned is:  608.78\n",
      "The median distance per driving days in the last month for retained is:  247.48\n"
     ]
    }
   ],
   "source": [
    "# Dividing the median distance by median number of driving days:\n",
    "med_dist_per_driving_days_ch = med['driven_km_drives']['churned'] / med['driving_days']['churned']\n",
    "med_dist_per_driving_days_ret = med['driven_km_drives']['retained'] / med['driving_days']['retained']\n",
    "\n",
    "print('The median distance per driving days in the last month for churned is: ',round(med_dist_per_driving_days_ch,2))\n",
    "print('The median distance per driving days in the last month for retained is: ',round(med_dist_per_driving_days_ret,2))"
   ]
  },
  {
   "cell_type": "markdown",
   "metadata": {
    "id": "kIfSmukAnVSs"
   },
   "source": [
    "Now, we calculate the median number of drives per driving day for each group."
   ]
  },
  {
   "cell_type": "code",
   "execution_count": 21,
   "metadata": {
    "id": "VAHqOO8endWX",
    "scrolled": true
   },
   "outputs": [
    {
     "name": "stdout",
     "output_type": "stream",
     "text": [
      "The median number of drives per driving days in the last month for churned is:  8.33\n",
      "The median number of drives per driving days in the last month for retained is:  3.36\n"
     ]
    }
   ],
   "source": [
    "# Dividing the median number of drives by median number of driving days\n",
    "drives_per_days_ch = med['drives']['churned'] / med['driving_days']['churned']\n",
    "drives_per_days_ret = med['drives']['retained'] / med['driving_days']['retained']\n",
    "print('The median number of drives per driving days in the last month for churned is: ',round(drives_per_days_ch,2))\n",
    "print('The median number of drives per driving days in the last month for retained is: ',round(drives_per_days_ret,2))"
   ]
  },
  {
   "cell_type": "markdown",
   "metadata": {},
   "source": [
    "The median user who churned, drove 608 kilometers each day they drove last month, which is almost 250% the per-drive-day distance of retained users. The median churned user had a similarly disproporionate number of drives per drive day compared to retained users.\n",
    "\n",
    "It is clear from these figures that, regardless of whether a user churned or not, the users represented in this data are serious drivers! It would probably be safe to assume that this data does not represent typical drivers at large. Perhaps the data&mdash;and in particular the sample of churned users&mdash;contains a high proportion of long-haul truckers.\n",
    "\n",
    "In consideration of how much these users drive, it would be worthwhile to gather more data on these super-drivers. It's possible that the reason for their driving so much is also the reason why the Waze app does not meet their specific set of needs, which may differ from the needs of a more typical driver."
   ]
  },
  {
   "cell_type": "markdown",
   "metadata": {
    "id": "xc7Q6elLoD1R"
   },
   "source": [
    "Finally, we examine whether there is an imbalance in how many users churned by device type.\n",
    "\n",
    "We begin by getting the overall counts of each device type for each group, churned and retained."
   ]
  },
  {
   "cell_type": "code",
   "execution_count": 22,
   "metadata": {},
   "outputs": [
    {
     "data": {
      "text/plain": [
       "label     device \n",
       "churned   Android     891\n",
       "          iPhone     1645\n",
       "retained  Android    4183\n",
       "          iPhone     7580\n",
       "dtype: int64"
      ]
     },
     "execution_count": 22,
     "metadata": {},
     "output_type": "execute_result"
    }
   ],
   "source": [
    "# For each label, we calculate the number of Android users and iPhone users\n",
    "data.groupby(['label','device']).size()"
   ]
  },
  {
   "cell_type": "markdown",
   "metadata": {
    "id": "yTVM6qFkoJs4"
   },
   "source": [
    "Now, within each group, churned and retained, we calculate what percent was Android and what percent was iPhone."
   ]
  },
  {
   "cell_type": "code",
   "execution_count": 23,
   "metadata": {
    "id": "rx0ElsS6oO7y"
   },
   "outputs": [
    {
     "data": {
      "text/plain": [
       "label     device \n",
       "churned   iPhone     0.65\n",
       "          Android    0.35\n",
       "retained  iPhone     0.64\n",
       "          Android    0.36\n",
       "Name: device, dtype: float64"
      ]
     },
     "execution_count": 23,
     "metadata": {},
     "output_type": "execute_result"
    }
   ],
   "source": [
    "# For each label, we calculate the percentage of Android users and iPhone users\n",
    "data.groupby('label')['device'].value_counts(normalize = True).round(2)"
   ]
  },
  {
   "cell_type": "markdown",
   "metadata": {
    "id": "DQVIMPzroavO"
   },
   "source": [
    "The ratio of iPhone users and Android users is consistent between the churned group and the retained group, and those ratios are both consistent with the ratio found in the overall dataset."
   ]
  }
 ],
 "metadata": {
  "colab": {
   "provenance": [
    {
     "file_id": "11e8ZirEhEEhZj7pNZmB8r_dPDEwRnfPR",
     "timestamp": 1671051831339
    },
    {
     "file_id": "1SoZM3Yq8C8BdYu-st3_BAlhze2_Z6Ilb",
     "timestamp": 1668798742100
    },
    {
     "file_id": "1U6q6WFOo7_Ka_C9cdq49KwAsI_lFX86-",
     "timestamp": 1668698832849
    },
    {
     "file_id": "1h6rKqbyzegmvnh5T6X1MhTFOXE6VUciq",
     "timestamp": 1666209449412
    },
    {
     "file_id": "1Vz66UR_ImIhJ4HEkCzdY_9E9QLKiboV1",
     "timestamp": 1663780048645
    }
   ],
   "toc_visible": true
  },
  "kernelspec": {
   "display_name": "Python 3",
   "language": "python",
   "name": "python3"
  },
  "language_info": {
   "codemirror_mode": {
    "name": "ipython",
    "version": 3
   },
   "file_extension": ".py",
   "mimetype": "text/x-python",
   "name": "python",
   "nbconvert_exporter": "python",
   "pygments_lexer": "ipython3",
   "version": "3.7.6"
  }
 },
 "nbformat": 4,
 "nbformat_minor": 4
}
