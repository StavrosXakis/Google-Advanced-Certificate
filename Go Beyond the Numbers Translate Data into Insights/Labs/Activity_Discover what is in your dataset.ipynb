{
 "cells": [
  {
   "cell_type": "markdown",
   "metadata": {
    "id": "1WD1hC5MTRMS"
   },
   "source": [
    "# Activity: Discover what is in your dataset"
   ]
  },
  {
   "cell_type": "markdown",
   "metadata": {
    "id": "ee31943b-274e-4c28-bce6-155cb6f4c334"
   },
   "source": [
    "## Introduction\n",
    "\n",
    "In this activity, you will discover characteristics of a dataset and use visualizations to analyze the data. This will develop and strengthen your skills in **exploratory data analysis (EDA)** and your knowledge of functions that allow you to explore and visualize data. \n",
    "\n",
    "EDA is an essential process in a data science workflow. As a data professional, you will need to conduct this process to better understand the data at hand and determine how it can be used to solve the problem you want to address. This activity will give you an opportunity to practice that process and prepare you for EDA in future projects.\n",
    "\n",
    "In this activity, you are a member of an analytics team that provides insights to an investing firm. To help them decide which companies to invest in next, the firm wants insights into **unicorn companies**–companies that are valued at over one billion dollars. The data you will use for this task provides information on over 1,000 unicorn companies, including their industry, country, year founded, and select investors. You will use this information to gain insights into how and when companies reach this prestigious milestone and to make recommentations for next steps to the investing firm."
   ]
  },
  {
   "cell_type": "markdown",
   "metadata": {
    "id": "4bb9630e-b940-4835-a389-d39def1fa848"
   },
   "source": [
    "## Step 1: Imports"
   ]
  },
  {
   "cell_type": "markdown",
   "metadata": {
    "id": "bc180686-4ae2-47ea-a292-3588ac60a820"
   },
   "source": [
    "### Import libraries and packages \n",
    "\n",
    "First, import relevant Python libraries and modules. Use the `pandas` library and the `matplotlib.pyplot` module."
   ]
  },
  {
   "cell_type": "code",
   "execution_count": 23,
   "metadata": {
    "id": "8e7f1f2c-bbcc-4f3c-b927-b090ee8334c4"
   },
   "outputs": [],
   "source": [
    "# Import libraries and packages\n",
    "import pandas as pd\n",
    "import numpy as np\n",
    "import matplotlib.pyplot as plt\n",
    "import seaborn as sns"
   ]
  },
  {
   "cell_type": "markdown",
   "metadata": {
    "id": "7d29c6bd-f194-46bb-b794-56dc20130473"
   },
   "source": [
    "### Load the dataset into a DataFrame\n",
    "\n",
    "The dataset provided is in the form of a csv file named `Unicorn_Companies.csv` and contains a subset of data on unicorn companies. As shown in this cell, the dataset has been automatically loaded in for you. You do not need to download the .csv file, or provide more code, in order to access the dataset and proceed with this lab. Please continue with this activity by completing the following instructions."
   ]
  },
  {
   "cell_type": "code",
   "execution_count": 24,
   "metadata": {
    "id": "3bd40d44-080f-4e49-b0c2-160dedc3c4df"
   },
   "outputs": [],
   "source": [
    "# RUN THIS CELL TO IMPORT YOUR DATA.\n",
    "companies = pd.read_csv(\"Unicorn_Companies.csv\")"
   ]
  },
  {
   "cell_type": "markdown",
   "metadata": {
    "id": "lXPOJ3LO-v7J",
    "jp-MarkdownHeadingCollapsed": true,
    "tags": []
   },
   "source": [
    "<details>\n",
    "  <summary><h4><strong>Hint 1</strong></h4></summary>\n",
    "\n",
    "Refer to what you learned about [loading data](https://www.coursera.org/learn/go-beyond-the-numbers-translate-data-into-insight/supplement/MdTG2/reference-guide-import-datasets-using-python) in Python.\n",
    "\n",
    "</details>"
   ]
  },
  {
   "cell_type": "markdown",
   "metadata": {
    "id": "O5TEL8Ty-v7L",
    "jp-MarkdownHeadingCollapsed": true,
    "tags": []
   },
   "source": [
    "<details>\n",
    "  <summary><h4><strong>Hint 2</strong></h4></summary>\n",
    "\n",
    "Use the function in the `pandas` library that allows you to read data from a csv file and load the data into a DataFrame.\n",
    " \n",
    "\n",
    "</details>"
   ]
  },
  {
   "cell_type": "markdown",
   "metadata": {
    "id": "kEx2SsH2-v7M",
    "jp-MarkdownHeadingCollapsed": true,
    "tags": []
   },
   "source": [
    "<details>\n",
    "  <summary><h4><strong>Hint 3</strong></h4></summary>\n",
    "\n",
    "Use the `read_csv()` function from the `pandas` library. \n",
    "\n",
    "</details>"
   ]
  },
  {
   "cell_type": "markdown",
   "metadata": {
    "id": "95bf39c9-d05c-4324-a40b-bc692607b61b"
   },
   "source": [
    "## Step 2: Data exploration"
   ]
  },
  {
   "cell_type": "markdown",
   "metadata": {
    "id": "26561614-8e9b-4840-8dbf-b50131ae5314",
    "tags": []
   },
   "source": [
    "### Display the first 10 rows of the data\n",
    "\n",
    "Next, explore the dataset and answer questions to guide your exploration and analysis of the data. To begin, display the first 10 rows of the data to get an understanding of how the dataset is structured."
   ]
  },
  {
   "cell_type": "code",
   "execution_count": 25,
   "metadata": {
    "id": "ad5210a5-7a64-4991-b004-de818cfaf506",
    "scrolled": true
   },
   "outputs": [
    {
     "data": {
      "text/html": [
       "<div>\n",
       "<style scoped>\n",
       "    .dataframe tbody tr th:only-of-type {\n",
       "        vertical-align: middle;\n",
       "    }\n",
       "\n",
       "    .dataframe tbody tr th {\n",
       "        vertical-align: top;\n",
       "    }\n",
       "\n",
       "    .dataframe thead th {\n",
       "        text-align: right;\n",
       "    }\n",
       "</style>\n",
       "<table border=\"1\" class=\"dataframe\">\n",
       "  <thead>\n",
       "    <tr style=\"text-align: right;\">\n",
       "      <th></th>\n",
       "      <th>Company</th>\n",
       "      <th>Valuation</th>\n",
       "      <th>Date Joined</th>\n",
       "      <th>Industry</th>\n",
       "      <th>City</th>\n",
       "      <th>Country/Region</th>\n",
       "      <th>Continent</th>\n",
       "      <th>Year Founded</th>\n",
       "      <th>Funding</th>\n",
       "      <th>Select Investors</th>\n",
       "    </tr>\n",
       "  </thead>\n",
       "  <tbody>\n",
       "    <tr>\n",
       "      <th>0</th>\n",
       "      <td>Bytedance</td>\n",
       "      <td>$180B</td>\n",
       "      <td>4/7/17</td>\n",
       "      <td>Artificial intelligence</td>\n",
       "      <td>Beijing</td>\n",
       "      <td>China</td>\n",
       "      <td>Asia</td>\n",
       "      <td>2012</td>\n",
       "      <td>$8B</td>\n",
       "      <td>Sequoia Capital China, SIG Asia Investments, S...</td>\n",
       "    </tr>\n",
       "    <tr>\n",
       "      <th>1</th>\n",
       "      <td>SpaceX</td>\n",
       "      <td>$100B</td>\n",
       "      <td>12/1/12</td>\n",
       "      <td>Other</td>\n",
       "      <td>Hawthorne</td>\n",
       "      <td>United States</td>\n",
       "      <td>North America</td>\n",
       "      <td>2002</td>\n",
       "      <td>$7B</td>\n",
       "      <td>Founders Fund, Draper Fisher Jurvetson, Rothen...</td>\n",
       "    </tr>\n",
       "    <tr>\n",
       "      <th>2</th>\n",
       "      <td>SHEIN</td>\n",
       "      <td>$100B</td>\n",
       "      <td>7/3/18</td>\n",
       "      <td>E-commerce &amp; direct-to-consumer</td>\n",
       "      <td>Shenzhen</td>\n",
       "      <td>China</td>\n",
       "      <td>Asia</td>\n",
       "      <td>2008</td>\n",
       "      <td>$2B</td>\n",
       "      <td>Tiger Global Management, Sequoia Capital China...</td>\n",
       "    </tr>\n",
       "    <tr>\n",
       "      <th>3</th>\n",
       "      <td>Stripe</td>\n",
       "      <td>$95B</td>\n",
       "      <td>1/23/14</td>\n",
       "      <td>Fintech</td>\n",
       "      <td>San Francisco</td>\n",
       "      <td>United States</td>\n",
       "      <td>North America</td>\n",
       "      <td>2010</td>\n",
       "      <td>$2B</td>\n",
       "      <td>Khosla Ventures, LowercaseCapital, capitalG</td>\n",
       "    </tr>\n",
       "    <tr>\n",
       "      <th>4</th>\n",
       "      <td>Klarna</td>\n",
       "      <td>$46B</td>\n",
       "      <td>12/12/11</td>\n",
       "      <td>Fintech</td>\n",
       "      <td>Stockholm</td>\n",
       "      <td>Sweden</td>\n",
       "      <td>Europe</td>\n",
       "      <td>2005</td>\n",
       "      <td>$4B</td>\n",
       "      <td>Institutional Venture Partners, Sequoia Capita...</td>\n",
       "    </tr>\n",
       "    <tr>\n",
       "      <th>5</th>\n",
       "      <td>Canva</td>\n",
       "      <td>$40B</td>\n",
       "      <td>1/8/18</td>\n",
       "      <td>Internet software &amp; services</td>\n",
       "      <td>Surry Hills</td>\n",
       "      <td>Australia</td>\n",
       "      <td>Oceania</td>\n",
       "      <td>2012</td>\n",
       "      <td>$572M</td>\n",
       "      <td>Sequoia Capital China, Blackbird Ventures, Mat...</td>\n",
       "    </tr>\n",
       "    <tr>\n",
       "      <th>6</th>\n",
       "      <td>Checkout.com</td>\n",
       "      <td>$40B</td>\n",
       "      <td>5/2/19</td>\n",
       "      <td>Fintech</td>\n",
       "      <td>London</td>\n",
       "      <td>United Kingdom</td>\n",
       "      <td>Europe</td>\n",
       "      <td>2012</td>\n",
       "      <td>$2B</td>\n",
       "      <td>Tiger Global Management, Insight Partners, DST...</td>\n",
       "    </tr>\n",
       "    <tr>\n",
       "      <th>7</th>\n",
       "      <td>Instacart</td>\n",
       "      <td>$39B</td>\n",
       "      <td>12/30/14</td>\n",
       "      <td>Supply chain, logistics, &amp; delivery</td>\n",
       "      <td>San Francisco</td>\n",
       "      <td>United States</td>\n",
       "      <td>North America</td>\n",
       "      <td>2012</td>\n",
       "      <td>$3B</td>\n",
       "      <td>Khosla Ventures, Kleiner Perkins Caufield &amp; By...</td>\n",
       "    </tr>\n",
       "    <tr>\n",
       "      <th>8</th>\n",
       "      <td>JUUL Labs</td>\n",
       "      <td>$38B</td>\n",
       "      <td>12/20/17</td>\n",
       "      <td>Consumer &amp; retail</td>\n",
       "      <td>San Francisco</td>\n",
       "      <td>United States</td>\n",
       "      <td>North America</td>\n",
       "      <td>2015</td>\n",
       "      <td>$14B</td>\n",
       "      <td>Tiger Global Management</td>\n",
       "    </tr>\n",
       "    <tr>\n",
       "      <th>9</th>\n",
       "      <td>Databricks</td>\n",
       "      <td>$38B</td>\n",
       "      <td>2/5/19</td>\n",
       "      <td>Data management &amp; analytics</td>\n",
       "      <td>San Francisco</td>\n",
       "      <td>United States</td>\n",
       "      <td>North America</td>\n",
       "      <td>2013</td>\n",
       "      <td>$3B</td>\n",
       "      <td>Andreessen Horowitz, New Enterprise Associates...</td>\n",
       "    </tr>\n",
       "  </tbody>\n",
       "</table>\n",
       "</div>"
      ],
      "text/plain": [
       "        Company Valuation Date Joined                             Industry  \\\n",
       "0     Bytedance     $180B      4/7/17              Artificial intelligence   \n",
       "1        SpaceX     $100B     12/1/12                                Other   \n",
       "2         SHEIN     $100B      7/3/18      E-commerce & direct-to-consumer   \n",
       "3        Stripe      $95B     1/23/14                              Fintech   \n",
       "4        Klarna      $46B    12/12/11                              Fintech   \n",
       "5         Canva      $40B      1/8/18         Internet software & services   \n",
       "6  Checkout.com      $40B      5/2/19                              Fintech   \n",
       "7     Instacart      $39B    12/30/14  Supply chain, logistics, & delivery   \n",
       "8     JUUL Labs      $38B    12/20/17                    Consumer & retail   \n",
       "9    Databricks      $38B      2/5/19          Data management & analytics   \n",
       "\n",
       "            City  Country/Region      Continent  Year Founded Funding  \\\n",
       "0        Beijing           China           Asia          2012     $8B   \n",
       "1      Hawthorne   United States  North America          2002     $7B   \n",
       "2       Shenzhen           China           Asia          2008     $2B   \n",
       "3  San Francisco   United States  North America          2010     $2B   \n",
       "4      Stockholm          Sweden         Europe          2005     $4B   \n",
       "5    Surry Hills       Australia        Oceania          2012   $572M   \n",
       "6         London  United Kingdom         Europe          2012     $2B   \n",
       "7  San Francisco   United States  North America          2012     $3B   \n",
       "8  San Francisco   United States  North America          2015    $14B   \n",
       "9  San Francisco   United States  North America          2013     $3B   \n",
       "\n",
       "                                    Select Investors  \n",
       "0  Sequoia Capital China, SIG Asia Investments, S...  \n",
       "1  Founders Fund, Draper Fisher Jurvetson, Rothen...  \n",
       "2  Tiger Global Management, Sequoia Capital China...  \n",
       "3        Khosla Ventures, LowercaseCapital, capitalG  \n",
       "4  Institutional Venture Partners, Sequoia Capita...  \n",
       "5  Sequoia Capital China, Blackbird Ventures, Mat...  \n",
       "6  Tiger Global Management, Insight Partners, DST...  \n",
       "7  Khosla Ventures, Kleiner Perkins Caufield & By...  \n",
       "8                            Tiger Global Management  \n",
       "9  Andreessen Horowitz, New Enterprise Associates...  "
      ]
     },
     "execution_count": 25,
     "metadata": {},
     "output_type": "execute_result"
    }
   ],
   "source": [
    "# Display the first 10 rows of the data\n",
    "companies.head(10)"
   ]
  },
  {
   "cell_type": "markdown",
   "metadata": {
    "id": "49881dfd-4532-424f-9729-f5378d984df0",
    "jp-MarkdownHeadingCollapsed": true,
    "tags": []
   },
   "source": [
    "<details>\n",
    "  <summary><h4><strong>Hint 1</strong></h4></summary>\n",
    "\n",
    "Refer to [the content about exploratory data analysis in Python](https://www.coursera.org/learn/go-beyond-the-numbers-translate-data-into-insight/lecture/kfl9b/find-stories-using-the-six-exploratory-data-analysis-practices).\n",
    "\n",
    "</details>"
   ]
  },
  {
   "cell_type": "markdown",
   "metadata": {
    "id": "k2QxFOi9HW1Q",
    "jp-MarkdownHeadingCollapsed": true,
    "tags": []
   },
   "source": [
    "<details>\n",
    "  <summary><h4><strong>Hint 2</strong></h4></summary>\n",
    "\n",
    "Use the function in the `pandas` library that allows you to get a specific number of rows from the top of a DataFrame.\n",
    " \n",
    "\n",
    "</details>"
   ]
  },
  {
   "cell_type": "markdown",
   "metadata": {
    "id": "ptkclWFzHjHv",
    "jp-MarkdownHeadingCollapsed": true,
    "tags": []
   },
   "source": [
    "<details>\n",
    "  <summary><h4><strong>Hint 3</strong></h4></summary>\n",
    "\n",
    "Use the `head()` function from the `pandas` library. \n",
    "\n",
    "</details>"
   ]
  },
  {
   "cell_type": "markdown",
   "metadata": {
    "id": "fb45ed17-5e22-4d48-9750-130a8586bbf9",
    "tags": []
   },
   "source": [
    "**Question:** What do you think the \"Date Joined\" column represents?"
   ]
  },
  {
   "cell_type": "markdown",
   "metadata": {
    "id": "EvIbtmjalQHF"
   },
   "source": [
    "**Answer:**\n",
    ">From the dataset's dictionary we know that the 'Date Joinded\" column represents the date that the company joined the unicorn companies club, in other words the day that the company became a billion dollars firm."
   ]
  },
  {
   "cell_type": "markdown",
   "metadata": {
    "id": "46e7fce4-b8dc-4f53-9f5f-a7d7fdfe0831",
    "tags": []
   },
   "source": [
    "**Question:** What do you think the \"Select Investors\" column represents?"
   ]
  },
  {
   "cell_type": "markdown",
   "metadata": {
    "id": "1sdw8O-PlQ19"
   },
   "source": [
    "**Answer:**\n",
    ">From the dataset's dictionary we know that the 'Select Investors' variable represents the top 4 (or less), investors of the respective unicorn company."
   ]
  },
  {
   "cell_type": "markdown",
   "metadata": {
    "id": "6d423621-c14b-4987-a76d-feee76046144"
   },
   "source": [
    "### Assess the size of the dataset\n",
    "\n",
    "Get a sense of how large the dataset is. The `size` property that DataFrames have can help."
   ]
  },
  {
   "cell_type": "code",
   "execution_count": 26,
   "metadata": {
    "id": "1856c3c8-dd7e-4b0f-8e30-06e8ed6b9885"
   },
   "outputs": [
    {
     "data": {
      "text/plain": [
       "10740"
      ]
     },
     "execution_count": 26,
     "metadata": {},
     "output_type": "execute_result"
    }
   ],
   "source": [
    "# How large the dataset is\n",
    "companies.size"
   ]
  },
  {
   "cell_type": "markdown",
   "metadata": {
    "id": "a1188994-353a-466e-884c-e7b770fa03ac",
    "jp-MarkdownHeadingCollapsed": true,
    "tags": []
   },
   "source": [
    "**Question:** What do you notice about the size of the dataset?"
   ]
  },
  {
   "cell_type": "markdown",
   "metadata": {
    "id": "gLRHG7k6lPC2"
   },
   "source": [
    "**Answer:**\n",
    ">We have 10,740 elements in our dataset. As it was declared, the dataset contains information for over 1,000 companies. By the .size() result, and the fact that we have 10 columns, we can assume that we have a total of 1074 observations."
   ]
  },
  {
   "cell_type": "markdown",
   "metadata": {
    "id": "e31095a6-5526-42d3-b1c0-b77c1f8b3852"
   },
   "source": [
    "### Determine the shape of the dataset\n",
    "\n",
    "Identify the number of rows and columns in the dataset. The `shape` property that DataFrames have can help."
   ]
  },
  {
   "cell_type": "code",
   "execution_count": 27,
   "metadata": {
    "id": "df3c71a1-2519-4c50-86c2-63902a534d27"
   },
   "outputs": [
    {
     "data": {
      "text/plain": [
       "(1074, 10)"
      ]
     },
     "execution_count": 27,
     "metadata": {},
     "output_type": "execute_result"
    }
   ],
   "source": [
    "# Shape of the dataset\n",
    "companies.shape"
   ]
  },
  {
   "cell_type": "markdown",
   "metadata": {
    "id": "4c2998a8-f864-43eb-a2d5-64845ebc805c"
   },
   "source": [
    "**Question:** What do you notice about the shape of the dataset?"
   ]
  },
  {
   "cell_type": "markdown",
   "metadata": {
    "id": "2D8Ix19xlOHv"
   },
   "source": [
    "**Answer:**\n",
    ">From the shape of the dataset we can see that we have 1074 rows (observations) and 10 columns (variables)."
   ]
  },
  {
   "cell_type": "markdown",
   "metadata": {
    "id": "b9c8ecb7-c202-4d0a-92ad-b6b6737bc167"
   },
   "source": [
    "### Get basic information about the dataset\n",
    "\n",
    "To further understand what the dataset entails, get basic information about the dataset, including the data type of values in each column. There is more than one way to approach this task. In this instance, use the `info()` function from `pandas`."
   ]
  },
  {
   "cell_type": "code",
   "execution_count": 28,
   "metadata": {
    "id": "eedad8b8-ca45-430e-91d2-eff3ad66adaf"
   },
   "outputs": [
    {
     "name": "stdout",
     "output_type": "stream",
     "text": [
      "<class 'pandas.core.frame.DataFrame'>\n",
      "RangeIndex: 1074 entries, 0 to 1073\n",
      "Data columns (total 10 columns):\n",
      " #   Column            Non-Null Count  Dtype \n",
      "---  ------            --------------  ----- \n",
      " 0   Company           1074 non-null   object\n",
      " 1   Valuation         1074 non-null   object\n",
      " 2   Date Joined       1074 non-null   object\n",
      " 3   Industry          1074 non-null   object\n",
      " 4   City              1058 non-null   object\n",
      " 5   Country/Region    1074 non-null   object\n",
      " 6   Continent         1074 non-null   object\n",
      " 7   Year Founded      1074 non-null   int64 \n",
      " 8   Funding           1074 non-null   object\n",
      " 9   Select Investors  1073 non-null   object\n",
      "dtypes: int64(1), object(9)\n",
      "memory usage: 84.0+ KB\n"
     ]
    }
   ],
   "source": [
    "# Get information\n",
    "companies.info()"
   ]
  },
  {
   "cell_type": "markdown",
   "metadata": {
    "id": "bd6573bc-2adb-410e-a85c-d6d5886d51bf"
   },
   "source": [
    "**Question:** What do you notice about the type of data in the `Year Founded` column? Refer to the output from using `info()` above. Knowing the data type of this variable is helpful because it indicates what types of analysis can be done with that variable, how it can be aggregated with other variables, and so on."
   ]
  },
  {
   "cell_type": "markdown",
   "metadata": {
    "id": "z_zKTLpXlF3D"
   },
   "source": [
    "**Answer:**\n",
    ">The data type of the 'Year Founded' variable is integer. Having an integer data type for a column that represents years is convenient as we can use it to sort our values and get its elements in order."
   ]
  },
  {
   "cell_type": "markdown",
   "metadata": {
    "id": "e6da795c-331b-4271-9825-103112cb08da"
   },
   "source": [
    "**Question:** What do you notice about the type of data in the `Date Joined` column? Refer to the output from using `info()` above. Knowing the data type of this variable is helpful because it indicates what types of analysis can be done with that variable and how the variable can be transformed to suit specific tasks."
   ]
  },
  {
   "cell_type": "markdown",
   "metadata": {
    "id": "oS1P_JQNlMFQ"
   },
   "source": [
    "**Answer:**\n",
    ">The variable 'Date Joined' data type is string (object). That variable represents date therefore by being an object, it makes it difficult to use it as a date reference as we cannot sort or order the data by date. We will have to convert the data type into datetime data type."
   ]
  },
  {
   "cell_type": "markdown",
   "metadata": {
    "id": "XFkjw_Ke2Cjn"
   },
   "source": [
    "## Step 3: Statistical tests"
   ]
  },
  {
   "cell_type": "markdown",
   "metadata": {
    "id": "7dac147e-19e1-49e7-bd80-e122390c3a70",
    "tags": []
   },
   "source": [
    "### Find descriptive statistics\n",
    "\n",
    "Find descriptive statistics and structure your dataset. The `describe()` function from the `pandas` library can help. This function generates statistics for the numeric columns in a dataset. "
   ]
  },
  {
   "cell_type": "code",
   "execution_count": 29,
   "metadata": {
    "id": "13f1c1dd-5637-4726-8fa0-2fbd838e4afa"
   },
   "outputs": [
    {
     "data": {
      "text/html": [
       "<div>\n",
       "<style scoped>\n",
       "    .dataframe tbody tr th:only-of-type {\n",
       "        vertical-align: middle;\n",
       "    }\n",
       "\n",
       "    .dataframe tbody tr th {\n",
       "        vertical-align: top;\n",
       "    }\n",
       "\n",
       "    .dataframe thead th {\n",
       "        text-align: right;\n",
       "    }\n",
       "</style>\n",
       "<table border=\"1\" class=\"dataframe\">\n",
       "  <thead>\n",
       "    <tr style=\"text-align: right;\">\n",
       "      <th></th>\n",
       "      <th>Year Founded</th>\n",
       "    </tr>\n",
       "  </thead>\n",
       "  <tbody>\n",
       "    <tr>\n",
       "      <th>count</th>\n",
       "      <td>1074.0</td>\n",
       "    </tr>\n",
       "    <tr>\n",
       "      <th>mean</th>\n",
       "      <td>2012.9</td>\n",
       "    </tr>\n",
       "    <tr>\n",
       "      <th>std</th>\n",
       "      <td>5.7</td>\n",
       "    </tr>\n",
       "    <tr>\n",
       "      <th>min</th>\n",
       "      <td>1919.0</td>\n",
       "    </tr>\n",
       "    <tr>\n",
       "      <th>25%</th>\n",
       "      <td>2011.0</td>\n",
       "    </tr>\n",
       "    <tr>\n",
       "      <th>50%</th>\n",
       "      <td>2014.0</td>\n",
       "    </tr>\n",
       "    <tr>\n",
       "      <th>75%</th>\n",
       "      <td>2016.0</td>\n",
       "    </tr>\n",
       "    <tr>\n",
       "      <th>max</th>\n",
       "      <td>2021.0</td>\n",
       "    </tr>\n",
       "  </tbody>\n",
       "</table>\n",
       "</div>"
      ],
      "text/plain": [
       "       Year Founded\n",
       "count        1074.0\n",
       "mean         2012.9\n",
       "std             5.7\n",
       "min          1919.0\n",
       "25%          2011.0\n",
       "50%          2014.0\n",
       "75%          2016.0\n",
       "max          2021.0"
      ]
     },
     "execution_count": 29,
     "metadata": {},
     "output_type": "execute_result"
    }
   ],
   "source": [
    "# Get descriptive statistics\n",
    "companies.describe().round(2)"
   ]
  },
  {
   "cell_type": "markdown",
   "metadata": {
    "id": "a70475eb-d3a6-42e4-8b71-a49b5a1aa0db"
   },
   "source": [
    "**Question:** Based on the table of descriptive stats generated above, what do you notice about the minimum value in the `Year Founded` column? This is important to know because it helps you understand how early the entries in the data begin."
   ]
  },
  {
   "cell_type": "markdown",
   "metadata": {
    "id": "KoM_YE7TlSx7"
   },
   "source": [
    "**Answer:**\n",
    ">From the min stat metric I can see that 1919 was the first year that our dataset records a company's found."
   ]
  },
  {
   "cell_type": "markdown",
   "metadata": {
    "id": "390764a7-961c-4ec7-ae11-38943d94b788",
    "tags": []
   },
   "source": [
    "**Question:** What do you notice about the maximum value in the `Year Founded` column? This is important to know because it helps you understand the most recent year captured by the data. "
   ]
  },
  {
   "cell_type": "markdown",
   "metadata": {
    "id": "7HQWuLNhZXTZ"
   },
   "source": [
    "**Answer:**\n",
    ">By using the .describe() method I can see that the most recent year that our data recorded a company's found is the max year 2021 ."
   ]
  },
  {
   "cell_type": "markdown",
   "metadata": {
    "id": "94b53c7f-54d8-4d1a-ae07-7c28c2ab8f5b",
    "tags": []
   },
   "source": [
    "### Convert the `Date Joined` column to datetime\n",
    "\n",
    "Use the `to_datetime()` function from the `pandas` library  to convert the `Date Joined` column to datetime. This splits each value into year, month, and date components. This is an important step in data cleaning, as it makes the data in this column easier to use in tasks you may encounter. To name a few examples, you may need to compare \"date joined\" between companies or determine how long it took a company to become a unicorn. Having \"date joined\" in datetime form would help you complete such tasks."
   ]
  },
  {
   "cell_type": "code",
   "execution_count": 30,
   "metadata": {
    "id": "afe607c8-9dd7-47c3-9fc8-88772f015e2b"
   },
   "outputs": [],
   "source": [
    "# Use pd.to_datetime() to convert Date Joined column to datetime \n",
    "companies['Date Joined'] = pd.to_datetime(companies['Date Joined'])"
   ]
  },
  {
   "cell_type": "code",
   "execution_count": 31,
   "metadata": {
    "id": "SBg22N43bA17"
   },
   "outputs": [
    {
     "name": "stdout",
     "output_type": "stream",
     "text": [
      "<class 'pandas.core.frame.DataFrame'>\n",
      "RangeIndex: 1074 entries, 0 to 1073\n",
      "Data columns (total 10 columns):\n",
      " #   Column            Non-Null Count  Dtype         \n",
      "---  ------            --------------  -----         \n",
      " 0   Company           1074 non-null   object        \n",
      " 1   Valuation         1074 non-null   object        \n",
      " 2   Date Joined       1074 non-null   datetime64[ns]\n",
      " 3   Industry          1074 non-null   object        \n",
      " 4   City              1058 non-null   object        \n",
      " 5   Country/Region    1074 non-null   object        \n",
      " 6   Continent         1074 non-null   object        \n",
      " 7   Year Founded      1074 non-null   int64         \n",
      " 8   Funding           1074 non-null   object        \n",
      " 9   Select Investors  1073 non-null   object        \n",
      "dtypes: datetime64[ns](1), int64(1), object(8)\n",
      "memory usage: 84.0+ KB\n"
     ]
    }
   ],
   "source": [
    "# Use .info() to confirm that the update actually took place\n",
    "companies.info()"
   ]
  },
  {
   "cell_type": "markdown",
   "metadata": {
    "id": "ae351a97-926e-40af-91e2-4bd12a5bf888",
    "tags": []
   },
   "source": [
    "### Create a `Year Joined` column\n",
    "\n",
    "It is common to encounter situations where you will need to compare the year joined with the year founded. The `Date Joined` column does not just have year—it has the year, month, and date. Extract the year component from the `Date Joined` column and add those year components into a new column to keep track of each company's year joined."
   ]
  },
  {
   "cell_type": "code",
   "execution_count": 32,
   "metadata": {
    "id": "7d8be21b-d625-4a8a-ad8b-a2e4ae7a2c4e"
   },
   "outputs": [],
   "source": [
    "# Use .dt.year to extract year component from Date Joined column and add the new info into a new column.\n",
    "companies['Year Joined']= companies['Date Joined'].dt.year"
   ]
  },
  {
   "cell_type": "code",
   "execution_count": 33,
   "metadata": {
    "id": "eSycjkBTbQB4"
   },
   "outputs": [
    {
     "data": {
      "text/html": [
       "<div>\n",
       "<style scoped>\n",
       "    .dataframe tbody tr th:only-of-type {\n",
       "        vertical-align: middle;\n",
       "    }\n",
       "\n",
       "    .dataframe tbody tr th {\n",
       "        vertical-align: top;\n",
       "    }\n",
       "\n",
       "    .dataframe thead th {\n",
       "        text-align: right;\n",
       "    }\n",
       "</style>\n",
       "<table border=\"1\" class=\"dataframe\">\n",
       "  <thead>\n",
       "    <tr style=\"text-align: right;\">\n",
       "      <th></th>\n",
       "      <th>Company</th>\n",
       "      <th>Valuation</th>\n",
       "      <th>Date Joined</th>\n",
       "      <th>Industry</th>\n",
       "      <th>City</th>\n",
       "      <th>Country/Region</th>\n",
       "      <th>Continent</th>\n",
       "      <th>Year Founded</th>\n",
       "      <th>Funding</th>\n",
       "      <th>Select Investors</th>\n",
       "      <th>Year Joined</th>\n",
       "    </tr>\n",
       "  </thead>\n",
       "  <tbody>\n",
       "    <tr>\n",
       "      <th>0</th>\n",
       "      <td>Bytedance</td>\n",
       "      <td>$180B</td>\n",
       "      <td>2017-04-07</td>\n",
       "      <td>Artificial intelligence</td>\n",
       "      <td>Beijing</td>\n",
       "      <td>China</td>\n",
       "      <td>Asia</td>\n",
       "      <td>2012</td>\n",
       "      <td>$8B</td>\n",
       "      <td>Sequoia Capital China, SIG Asia Investments, S...</td>\n",
       "      <td>2017</td>\n",
       "    </tr>\n",
       "    <tr>\n",
       "      <th>1</th>\n",
       "      <td>SpaceX</td>\n",
       "      <td>$100B</td>\n",
       "      <td>2012-12-01</td>\n",
       "      <td>Other</td>\n",
       "      <td>Hawthorne</td>\n",
       "      <td>United States</td>\n",
       "      <td>North America</td>\n",
       "      <td>2002</td>\n",
       "      <td>$7B</td>\n",
       "      <td>Founders Fund, Draper Fisher Jurvetson, Rothen...</td>\n",
       "      <td>2012</td>\n",
       "    </tr>\n",
       "    <tr>\n",
       "      <th>2</th>\n",
       "      <td>SHEIN</td>\n",
       "      <td>$100B</td>\n",
       "      <td>2018-07-03</td>\n",
       "      <td>E-commerce &amp; direct-to-consumer</td>\n",
       "      <td>Shenzhen</td>\n",
       "      <td>China</td>\n",
       "      <td>Asia</td>\n",
       "      <td>2008</td>\n",
       "      <td>$2B</td>\n",
       "      <td>Tiger Global Management, Sequoia Capital China...</td>\n",
       "      <td>2018</td>\n",
       "    </tr>\n",
       "    <tr>\n",
       "      <th>3</th>\n",
       "      <td>Stripe</td>\n",
       "      <td>$95B</td>\n",
       "      <td>2014-01-23</td>\n",
       "      <td>Fintech</td>\n",
       "      <td>San Francisco</td>\n",
       "      <td>United States</td>\n",
       "      <td>North America</td>\n",
       "      <td>2010</td>\n",
       "      <td>$2B</td>\n",
       "      <td>Khosla Ventures, LowercaseCapital, capitalG</td>\n",
       "      <td>2014</td>\n",
       "    </tr>\n",
       "    <tr>\n",
       "      <th>4</th>\n",
       "      <td>Klarna</td>\n",
       "      <td>$46B</td>\n",
       "      <td>2011-12-12</td>\n",
       "      <td>Fintech</td>\n",
       "      <td>Stockholm</td>\n",
       "      <td>Sweden</td>\n",
       "      <td>Europe</td>\n",
       "      <td>2005</td>\n",
       "      <td>$4B</td>\n",
       "      <td>Institutional Venture Partners, Sequoia Capita...</td>\n",
       "      <td>2011</td>\n",
       "    </tr>\n",
       "  </tbody>\n",
       "</table>\n",
       "</div>"
      ],
      "text/plain": [
       "     Company Valuation Date Joined                         Industry  \\\n",
       "0  Bytedance     $180B  2017-04-07          Artificial intelligence   \n",
       "1     SpaceX     $100B  2012-12-01                            Other   \n",
       "2      SHEIN     $100B  2018-07-03  E-commerce & direct-to-consumer   \n",
       "3     Stripe      $95B  2014-01-23                          Fintech   \n",
       "4     Klarna      $46B  2011-12-12                          Fintech   \n",
       "\n",
       "            City Country/Region      Continent  Year Founded Funding  \\\n",
       "0        Beijing          China           Asia          2012     $8B   \n",
       "1      Hawthorne  United States  North America          2002     $7B   \n",
       "2       Shenzhen          China           Asia          2008     $2B   \n",
       "3  San Francisco  United States  North America          2010     $2B   \n",
       "4      Stockholm         Sweden         Europe          2005     $4B   \n",
       "\n",
       "                                    Select Investors  Year Joined  \n",
       "0  Sequoia Capital China, SIG Asia Investments, S...         2017  \n",
       "1  Founders Fund, Draper Fisher Jurvetson, Rothen...         2012  \n",
       "2  Tiger Global Management, Sequoia Capital China...         2018  \n",
       "3        Khosla Ventures, LowercaseCapital, capitalG         2014  \n",
       "4  Institutional Venture Partners, Sequoia Capita...         2011  "
      ]
     },
     "execution_count": 33,
     "metadata": {},
     "output_type": "execute_result"
    }
   ],
   "source": [
    "# Use .head() to confirm that the new column did get added\n",
    "companies.head()"
   ]
  },
  {
   "cell_type": "markdown",
   "metadata": {},
   "source": [
    "#### Let's calculate the time duration that a company came through to become a billion dolars firm."
   ]
  },
  {
   "cell_type": "code",
   "execution_count": 34,
   "metadata": {},
   "outputs": [],
   "source": [
    "companies['year_to_unicorn'] = companies['Year Joined'] - companies['Year Founded']"
   ]
  },
  {
   "cell_type": "code",
   "execution_count": 35,
   "metadata": {},
   "outputs": [
    {
     "data": {
      "text/html": [
       "<div>\n",
       "<style scoped>\n",
       "    .dataframe tbody tr th:only-of-type {\n",
       "        vertical-align: middle;\n",
       "    }\n",
       "\n",
       "    .dataframe tbody tr th {\n",
       "        vertical-align: top;\n",
       "    }\n",
       "\n",
       "    .dataframe thead th {\n",
       "        text-align: right;\n",
       "    }\n",
       "</style>\n",
       "<table border=\"1\" class=\"dataframe\">\n",
       "  <thead>\n",
       "    <tr style=\"text-align: right;\">\n",
       "      <th></th>\n",
       "      <th>Year Founded</th>\n",
       "      <th>Year Joined</th>\n",
       "      <th>year_to_unicorn</th>\n",
       "    </tr>\n",
       "  </thead>\n",
       "  <tbody>\n",
       "    <tr>\n",
       "      <th>count</th>\n",
       "      <td>1074</td>\n",
       "      <td>1074</td>\n",
       "      <td>1074</td>\n",
       "    </tr>\n",
       "    <tr>\n",
       "      <th>mean</th>\n",
       "      <td>2012</td>\n",
       "      <td>2019</td>\n",
       "      <td>7</td>\n",
       "    </tr>\n",
       "    <tr>\n",
       "      <th>std</th>\n",
       "      <td>5</td>\n",
       "      <td>2</td>\n",
       "      <td>5</td>\n",
       "    </tr>\n",
       "    <tr>\n",
       "      <th>min</th>\n",
       "      <td>1919</td>\n",
       "      <td>2007</td>\n",
       "      <td>-4</td>\n",
       "    </tr>\n",
       "    <tr>\n",
       "      <th>25%</th>\n",
       "      <td>2011</td>\n",
       "      <td>2019</td>\n",
       "      <td>4</td>\n",
       "    </tr>\n",
       "    <tr>\n",
       "      <th>50%</th>\n",
       "      <td>2014</td>\n",
       "      <td>2021</td>\n",
       "      <td>6</td>\n",
       "    </tr>\n",
       "    <tr>\n",
       "      <th>75%</th>\n",
       "      <td>2016</td>\n",
       "      <td>2021</td>\n",
       "      <td>9</td>\n",
       "    </tr>\n",
       "    <tr>\n",
       "      <th>max</th>\n",
       "      <td>2021</td>\n",
       "      <td>2022</td>\n",
       "      <td>98</td>\n",
       "    </tr>\n",
       "  </tbody>\n",
       "</table>\n",
       "</div>"
      ],
      "text/plain": [
       "       Year Founded  Year Joined  year_to_unicorn\n",
       "count          1074         1074             1074\n",
       "mean           2012         2019                7\n",
       "std               5            2                5\n",
       "min            1919         2007               -4\n",
       "25%            2011         2019                4\n",
       "50%            2014         2021                6\n",
       "75%            2016         2021                9\n",
       "max            2021         2022               98"
      ]
     },
     "execution_count": 35,
     "metadata": {},
     "output_type": "execute_result"
    }
   ],
   "source": [
    "companies.describe().astype(int)"
   ]
  },
  {
   "cell_type": "markdown",
   "metadata": {},
   "source": [
    "**Finding**:\n",
    ">Reviewing the results of the above .describe() method, we can see the existance of false entries due to the negative -4 min value of the 'year_to_unicorn' variable. That negative value means that the respective company joined the unicorn club before even get founded, somthing that does not make sence."
   ]
  },
  {
   "cell_type": "markdown",
   "metadata": {},
   "source": [
    ">We should proceed by filtering out the false entries to not influence our analysis"
   ]
  },
  {
   "cell_type": "code",
   "execution_count": 36,
   "metadata": {},
   "outputs": [
    {
     "data": {
      "text/html": [
       "<div>\n",
       "<style scoped>\n",
       "    .dataframe tbody tr th:only-of-type {\n",
       "        vertical-align: middle;\n",
       "    }\n",
       "\n",
       "    .dataframe tbody tr th {\n",
       "        vertical-align: top;\n",
       "    }\n",
       "\n",
       "    .dataframe thead th {\n",
       "        text-align: right;\n",
       "    }\n",
       "</style>\n",
       "<table border=\"1\" class=\"dataframe\">\n",
       "  <thead>\n",
       "    <tr style=\"text-align: right;\">\n",
       "      <th></th>\n",
       "      <th>Year Founded</th>\n",
       "      <th>Year Joined</th>\n",
       "      <th>year_to_unicorn</th>\n",
       "    </tr>\n",
       "  </thead>\n",
       "  <tbody>\n",
       "    <tr>\n",
       "      <th>count</th>\n",
       "      <td>1064</td>\n",
       "      <td>1064</td>\n",
       "      <td>1064</td>\n",
       "    </tr>\n",
       "    <tr>\n",
       "      <th>mean</th>\n",
       "      <td>2012</td>\n",
       "      <td>2019</td>\n",
       "      <td>7</td>\n",
       "    </tr>\n",
       "    <tr>\n",
       "      <th>std</th>\n",
       "      <td>5</td>\n",
       "      <td>1</td>\n",
       "      <td>5</td>\n",
       "    </tr>\n",
       "    <tr>\n",
       "      <th>min</th>\n",
       "      <td>1919</td>\n",
       "      <td>2007</td>\n",
       "      <td>1</td>\n",
       "    </tr>\n",
       "    <tr>\n",
       "      <th>25%</th>\n",
       "      <td>2011</td>\n",
       "      <td>2019</td>\n",
       "      <td>4</td>\n",
       "    </tr>\n",
       "    <tr>\n",
       "      <th>50%</th>\n",
       "      <td>2014</td>\n",
       "      <td>2021</td>\n",
       "      <td>6</td>\n",
       "    </tr>\n",
       "    <tr>\n",
       "      <th>75%</th>\n",
       "      <td>2016</td>\n",
       "      <td>2021</td>\n",
       "      <td>9</td>\n",
       "    </tr>\n",
       "    <tr>\n",
       "      <th>max</th>\n",
       "      <td>2021</td>\n",
       "      <td>2022</td>\n",
       "      <td>98</td>\n",
       "    </tr>\n",
       "  </tbody>\n",
       "</table>\n",
       "</div>"
      ],
      "text/plain": [
       "       Year Founded  Year Joined  year_to_unicorn\n",
       "count          1064         1064             1064\n",
       "mean           2012         2019                7\n",
       "std               5            1                5\n",
       "min            1919         2007                1\n",
       "25%            2011         2019                4\n",
       "50%            2014         2021                6\n",
       "75%            2016         2021                9\n",
       "max            2021         2022               98"
      ]
     },
     "execution_count": 36,
     "metadata": {},
     "output_type": "execute_result"
    }
   ],
   "source": [
    "# Filtering the negative values in the year_to_unicorn variable using the .query() method.\n",
    "companies = companies.query('year_to_unicorn > 0')\n",
    "companies.describe().astype(int)"
   ]
  },
  {
   "cell_type": "markdown",
   "metadata": {
    "id": "B4_yxUrQ2Yhp"
   },
   "source": [
    "## Step 4: Results and evaluation\n"
   ]
  },
  {
   "cell_type": "markdown",
   "metadata": {
    "id": "5a99bfd0-95e9-4ed3-a01a-2e430967f98e",
    "tags": []
   },
   "source": [
    "### Take a sample of the data\n",
    "\n",
    "It is not necessary to take a sample of the data in order to conduct the visualizations and EDA that follow. But you may encounter scenarios in the future where you will need to take a sample of the data due to time and resource limitations. For the purpose of developing your skills around sampling, take a sample of the data and work with that sample for the next steps of analysis you want to conduct. Use the `sample()` function for this task."
   ]
  },
  {
   "cell_type": "code",
   "execution_count": 44,
   "metadata": {
    "id": "1e5df00e-d64f-417c-b7fc-311a960ecc8c"
   },
   "outputs": [
    {
     "data": {
      "text/html": [
       "<div>\n",
       "<style scoped>\n",
       "    .dataframe tbody tr th:only-of-type {\n",
       "        vertical-align: middle;\n",
       "    }\n",
       "\n",
       "    .dataframe tbody tr th {\n",
       "        vertical-align: top;\n",
       "    }\n",
       "\n",
       "    .dataframe thead th {\n",
       "        text-align: right;\n",
       "    }\n",
       "</style>\n",
       "<table border=\"1\" class=\"dataframe\">\n",
       "  <thead>\n",
       "    <tr style=\"text-align: right;\">\n",
       "      <th></th>\n",
       "      <th>Company</th>\n",
       "      <th>Valuation</th>\n",
       "      <th>Date Joined</th>\n",
       "      <th>Industry</th>\n",
       "      <th>City</th>\n",
       "      <th>Country/Region</th>\n",
       "      <th>Continent</th>\n",
       "      <th>Year Founded</th>\n",
       "      <th>Funding</th>\n",
       "      <th>Select Investors</th>\n",
       "      <th>Year Joined</th>\n",
       "      <th>year_to_unicorn</th>\n",
       "      <th>Valuation Amount</th>\n",
       "    </tr>\n",
       "  </thead>\n",
       "  <tbody>\n",
       "    <tr>\n",
       "      <th>605</th>\n",
       "      <td>Aprogen</td>\n",
       "      <td>$1B</td>\n",
       "      <td>2019-05-31</td>\n",
       "      <td>Health</td>\n",
       "      <td>Seongnam-Si</td>\n",
       "      <td>South Korea</td>\n",
       "      <td>Asia</td>\n",
       "      <td>2000</td>\n",
       "      <td>$62M</td>\n",
       "      <td>Lindeman Asia Investment, Nichi-Iko Pharmaceut...</td>\n",
       "      <td>2019</td>\n",
       "      <td>19</td>\n",
       "      <td>1</td>\n",
       "    </tr>\n",
       "    <tr>\n",
       "      <th>94</th>\n",
       "      <td>Scale AI</td>\n",
       "      <td>$7B</td>\n",
       "      <td>2019-08-05</td>\n",
       "      <td>Artificial intelligence</td>\n",
       "      <td>San Francisco</td>\n",
       "      <td>United States</td>\n",
       "      <td>North America</td>\n",
       "      <td>2018</td>\n",
       "      <td>$603M</td>\n",
       "      <td>Accel, Y Combinator, Index Ventures</td>\n",
       "      <td>2019</td>\n",
       "      <td>1</td>\n",
       "      <td>7</td>\n",
       "    </tr>\n",
       "    <tr>\n",
       "      <th>981</th>\n",
       "      <td>NoBroker</td>\n",
       "      <td>$1B</td>\n",
       "      <td>2021-11-23</td>\n",
       "      <td>Internet software &amp; services</td>\n",
       "      <td>Bengaluru</td>\n",
       "      <td>India</td>\n",
       "      <td>Asia</td>\n",
       "      <td>2014</td>\n",
       "      <td>$424M</td>\n",
       "      <td>General Atlantic, Elevation Capital, BEENEXT</td>\n",
       "      <td>2021</td>\n",
       "      <td>7</td>\n",
       "      <td>1</td>\n",
       "    </tr>\n",
       "    <tr>\n",
       "      <th>918</th>\n",
       "      <td>FlashEx</td>\n",
       "      <td>$1B</td>\n",
       "      <td>2018-08-27</td>\n",
       "      <td>Supply chain, logistics, &amp; delivery</td>\n",
       "      <td>Beijing</td>\n",
       "      <td>China</td>\n",
       "      <td>Asia</td>\n",
       "      <td>2014</td>\n",
       "      <td>$359M</td>\n",
       "      <td>Prometheus Capital, Matrix Partners China, JD ...</td>\n",
       "      <td>2018</td>\n",
       "      <td>4</td>\n",
       "      <td>1</td>\n",
       "    </tr>\n",
       "    <tr>\n",
       "      <th>694</th>\n",
       "      <td>Deliverect</td>\n",
       "      <td>$1B</td>\n",
       "      <td>2022-01-24</td>\n",
       "      <td>Fintech</td>\n",
       "      <td>Ghent</td>\n",
       "      <td>Belgium</td>\n",
       "      <td>Europe</td>\n",
       "      <td>2018</td>\n",
       "      <td>$237M</td>\n",
       "      <td>Newion Partners, SmartFin Capital, OMERS Ventures</td>\n",
       "      <td>2022</td>\n",
       "      <td>4</td>\n",
       "      <td>1</td>\n",
       "    </tr>\n",
       "    <tr>\n",
       "      <th>271</th>\n",
       "      <td>Varo Bank</td>\n",
       "      <td>$3B</td>\n",
       "      <td>2021-09-09</td>\n",
       "      <td>Fintech</td>\n",
       "      <td>San Francisco</td>\n",
       "      <td>United States</td>\n",
       "      <td>North America</td>\n",
       "      <td>2015</td>\n",
       "      <td>$987M</td>\n",
       "      <td>Warburg Pincus, The Rise Fund, HarbourVest Par...</td>\n",
       "      <td>2021</td>\n",
       "      <td>6</td>\n",
       "      <td>3</td>\n",
       "    </tr>\n",
       "    <tr>\n",
       "      <th>510</th>\n",
       "      <td>Lightricks</td>\n",
       "      <td>$2B</td>\n",
       "      <td>2019-07-31</td>\n",
       "      <td>Artificial intelligence</td>\n",
       "      <td>Jerusalem</td>\n",
       "      <td>Israel</td>\n",
       "      <td>Asia</td>\n",
       "      <td>2013</td>\n",
       "      <td>$305M</td>\n",
       "      <td>Viola Ventures, Insight Partners, ClalTech, Go...</td>\n",
       "      <td>2019</td>\n",
       "      <td>6</td>\n",
       "      <td>2</td>\n",
       "    </tr>\n",
       "    <tr>\n",
       "      <th>528</th>\n",
       "      <td>InVision</td>\n",
       "      <td>$2B</td>\n",
       "      <td>2017-11-01</td>\n",
       "      <td>Internet software &amp; services</td>\n",
       "      <td>New York</td>\n",
       "      <td>United States</td>\n",
       "      <td>North America</td>\n",
       "      <td>2011</td>\n",
       "      <td>$349M</td>\n",
       "      <td>FirstMark Capital, Tiger Global Management, IC...</td>\n",
       "      <td>2017</td>\n",
       "      <td>6</td>\n",
       "      <td>2</td>\n",
       "    </tr>\n",
       "    <tr>\n",
       "      <th>62</th>\n",
       "      <td>Yanolja</td>\n",
       "      <td>$9B</td>\n",
       "      <td>2019-06-10</td>\n",
       "      <td>Travel</td>\n",
       "      <td>Seoul</td>\n",
       "      <td>South Korea</td>\n",
       "      <td>Asia</td>\n",
       "      <td>2005</td>\n",
       "      <td>$2B</td>\n",
       "      <td>SBI Investment Korea, Partners Investment, GIC</td>\n",
       "      <td>2019</td>\n",
       "      <td>14</td>\n",
       "      <td>9</td>\n",
       "    </tr>\n",
       "    <tr>\n",
       "      <th>426</th>\n",
       "      <td>Veriff</td>\n",
       "      <td>$2B</td>\n",
       "      <td>2022-01-26</td>\n",
       "      <td>Artificial intelligence</td>\n",
       "      <td>Tallinn</td>\n",
       "      <td>Estonia</td>\n",
       "      <td>Europe</td>\n",
       "      <td>2015</td>\n",
       "      <td>$177M</td>\n",
       "      <td>Accel, Institutional Venture Partners, Tiger G...</td>\n",
       "      <td>2022</td>\n",
       "      <td>7</td>\n",
       "      <td>2</td>\n",
       "    </tr>\n",
       "    <tr>\n",
       "      <th>445</th>\n",
       "      <td>ezCater</td>\n",
       "      <td>$2B</td>\n",
       "      <td>2019-04-02</td>\n",
       "      <td>Supply chain, logistics, &amp; delivery</td>\n",
       "      <td>Boston</td>\n",
       "      <td>United States</td>\n",
       "      <td>North America</td>\n",
       "      <td>2007</td>\n",
       "      <td>$421M</td>\n",
       "      <td>Insight Venture Partners, ICONIQ Capital, Laun...</td>\n",
       "      <td>2019</td>\n",
       "      <td>12</td>\n",
       "      <td>2</td>\n",
       "    </tr>\n",
       "    <tr>\n",
       "      <th>226</th>\n",
       "      <td>Clubhouse</td>\n",
       "      <td>$4B</td>\n",
       "      <td>2021-01-24</td>\n",
       "      <td>Mobile &amp; telecommunications</td>\n",
       "      <td>San Francisco</td>\n",
       "      <td>United States</td>\n",
       "      <td>North America</td>\n",
       "      <td>2020</td>\n",
       "      <td>$110M</td>\n",
       "      <td>Andreessen Horowitz, TQ Ventures</td>\n",
       "      <td>2021</td>\n",
       "      <td>1</td>\n",
       "      <td>4</td>\n",
       "    </tr>\n",
       "    <tr>\n",
       "      <th>809</th>\n",
       "      <td>apna</td>\n",
       "      <td>$1B</td>\n",
       "      <td>2021-09-15</td>\n",
       "      <td>Internet software &amp; services</td>\n",
       "      <td>Bengaluru</td>\n",
       "      <td>India</td>\n",
       "      <td>Asia</td>\n",
       "      <td>2019</td>\n",
       "      <td>$193M</td>\n",
       "      <td>Sequoia Capital India, Rocketship.vc, Lightspe...</td>\n",
       "      <td>2021</td>\n",
       "      <td>2</td>\n",
       "      <td>1</td>\n",
       "    </tr>\n",
       "    <tr>\n",
       "      <th>183</th>\n",
       "      <td>Handshake</td>\n",
       "      <td>$4B</td>\n",
       "      <td>2021-05-12</td>\n",
       "      <td>Internet software &amp; services</td>\n",
       "      <td>San Francisco</td>\n",
       "      <td>United States</td>\n",
       "      <td>North America</td>\n",
       "      <td>2014</td>\n",
       "      <td>$434M</td>\n",
       "      <td>Kleiner Perkins Caufield &amp; Byers, Lightspeed V...</td>\n",
       "      <td>2021</td>\n",
       "      <td>7</td>\n",
       "      <td>4</td>\n",
       "    </tr>\n",
       "    <tr>\n",
       "      <th>588</th>\n",
       "      <td>Quora</td>\n",
       "      <td>$2B</td>\n",
       "      <td>2017-04-21</td>\n",
       "      <td>Internet software &amp; services</td>\n",
       "      <td>Mountain View</td>\n",
       "      <td>United States</td>\n",
       "      <td>North America</td>\n",
       "      <td>2009</td>\n",
       "      <td>$226M</td>\n",
       "      <td>Y Combinator, Matrix Partners, Benchmark</td>\n",
       "      <td>2017</td>\n",
       "      <td>8</td>\n",
       "      <td>2</td>\n",
       "    </tr>\n",
       "    <tr>\n",
       "      <th>224</th>\n",
       "      <td>Cerebras Systems</td>\n",
       "      <td>$4B</td>\n",
       "      <td>2018-11-14</td>\n",
       "      <td>Hardware</td>\n",
       "      <td>Los Altos</td>\n",
       "      <td>United States</td>\n",
       "      <td>North America</td>\n",
       "      <td>2016</td>\n",
       "      <td>$720M</td>\n",
       "      <td>Benchmark, Foundation Capital, Sequoia Capital</td>\n",
       "      <td>2018</td>\n",
       "      <td>2</td>\n",
       "      <td>4</td>\n",
       "    </tr>\n",
       "    <tr>\n",
       "      <th>0</th>\n",
       "      <td>Bytedance</td>\n",
       "      <td>$180B</td>\n",
       "      <td>2017-04-07</td>\n",
       "      <td>Artificial intelligence</td>\n",
       "      <td>Beijing</td>\n",
       "      <td>China</td>\n",
       "      <td>Asia</td>\n",
       "      <td>2012</td>\n",
       "      <td>$8B</td>\n",
       "      <td>Sequoia Capital China, SIG Asia Investments, S...</td>\n",
       "      <td>2017</td>\n",
       "      <td>5</td>\n",
       "      <td>180</td>\n",
       "    </tr>\n",
       "    <tr>\n",
       "      <th>838</th>\n",
       "      <td>Nxin</td>\n",
       "      <td>$1B</td>\n",
       "      <td>2018-09-18</td>\n",
       "      <td>Internet software &amp; services</td>\n",
       "      <td>Beijing</td>\n",
       "      <td>China</td>\n",
       "      <td>Asia</td>\n",
       "      <td>2015</td>\n",
       "      <td>$53M</td>\n",
       "      <td>Beijing Juneng Hesheng Industry Investment Fun...</td>\n",
       "      <td>2018</td>\n",
       "      <td>3</td>\n",
       "      <td>1</td>\n",
       "    </tr>\n",
       "    <tr>\n",
       "      <th>336</th>\n",
       "      <td>Flutterwave</td>\n",
       "      <td>$3B</td>\n",
       "      <td>2021-03-09</td>\n",
       "      <td>Fintech</td>\n",
       "      <td>San Francisco</td>\n",
       "      <td>United States</td>\n",
       "      <td>North America</td>\n",
       "      <td>2016</td>\n",
       "      <td>$474M</td>\n",
       "      <td>Green Visor Capital, CRE Venture Capital, Grey...</td>\n",
       "      <td>2021</td>\n",
       "      <td>5</td>\n",
       "      <td>3</td>\n",
       "    </tr>\n",
       "    <tr>\n",
       "      <th>1049</th>\n",
       "      <td>TrueLayer</td>\n",
       "      <td>$1B</td>\n",
       "      <td>2021-09-21</td>\n",
       "      <td>Fintech</td>\n",
       "      <td>London</td>\n",
       "      <td>United Kingdom</td>\n",
       "      <td>Europe</td>\n",
       "      <td>2016</td>\n",
       "      <td>$271M</td>\n",
       "      <td>Anthemis, Connect Ventures, Northzone Ventures</td>\n",
       "      <td>2021</td>\n",
       "      <td>5</td>\n",
       "      <td>1</td>\n",
       "    </tr>\n",
       "    <tr>\n",
       "      <th>1061</th>\n",
       "      <td>WeLab</td>\n",
       "      <td>$1B</td>\n",
       "      <td>2017-11-08</td>\n",
       "      <td>Fintech</td>\n",
       "      <td>NaN</td>\n",
       "      <td>Hong Kong</td>\n",
       "      <td>Asia</td>\n",
       "      <td>2013</td>\n",
       "      <td>$871M</td>\n",
       "      <td>Sequoia Capital China, ING, Alibaba Entreprene...</td>\n",
       "      <td>2017</td>\n",
       "      <td>4</td>\n",
       "      <td>1</td>\n",
       "    </tr>\n",
       "    <tr>\n",
       "      <th>937</th>\n",
       "      <td>Ibotta</td>\n",
       "      <td>$1B</td>\n",
       "      <td>2019-08-06</td>\n",
       "      <td>Fintech</td>\n",
       "      <td>Denver</td>\n",
       "      <td>United States</td>\n",
       "      <td>North America</td>\n",
       "      <td>2011</td>\n",
       "      <td>$93M</td>\n",
       "      <td>Koch Disruptive Technologies, Teamworthy Ventu...</td>\n",
       "      <td>2019</td>\n",
       "      <td>8</td>\n",
       "      <td>1</td>\n",
       "    </tr>\n",
       "    <tr>\n",
       "      <th>859</th>\n",
       "      <td>Alto Pharmacy</td>\n",
       "      <td>$1B</td>\n",
       "      <td>2020-01-30</td>\n",
       "      <td>Health</td>\n",
       "      <td>San Francisco</td>\n",
       "      <td>United States</td>\n",
       "      <td>North America</td>\n",
       "      <td>2015</td>\n",
       "      <td>$524M</td>\n",
       "      <td>Jackson Square Ventures, Greenoaks Capital Man...</td>\n",
       "      <td>2020</td>\n",
       "      <td>5</td>\n",
       "      <td>1</td>\n",
       "    </tr>\n",
       "    <tr>\n",
       "      <th>660</th>\n",
       "      <td>Eat Just</td>\n",
       "      <td>$1B</td>\n",
       "      <td>2017-11-30</td>\n",
       "      <td>Consumer &amp; retail</td>\n",
       "      <td>San Francisco</td>\n",
       "      <td>United States</td>\n",
       "      <td>North America</td>\n",
       "      <td>2011</td>\n",
       "      <td>$440M</td>\n",
       "      <td>Khosla Ventures, Horizons Ventures, Founders Fund</td>\n",
       "      <td>2017</td>\n",
       "      <td>6</td>\n",
       "      <td>1</td>\n",
       "    </tr>\n",
       "    <tr>\n",
       "      <th>20</th>\n",
       "      <td>Rapyd</td>\n",
       "      <td>$15B</td>\n",
       "      <td>2019-12-03</td>\n",
       "      <td>Fintech</td>\n",
       "      <td>London</td>\n",
       "      <td>United Kingdom</td>\n",
       "      <td>Europe</td>\n",
       "      <td>2016</td>\n",
       "      <td>$770M</td>\n",
       "      <td>Target Global, General Catalyst, Durable Capit...</td>\n",
       "      <td>2019</td>\n",
       "      <td>3</td>\n",
       "      <td>15</td>\n",
       "    </tr>\n",
       "    <tr>\n",
       "      <th>343</th>\n",
       "      <td>LaunchDarkly</td>\n",
       "      <td>$3B</td>\n",
       "      <td>2021-08-10</td>\n",
       "      <td>Internet software &amp; services</td>\n",
       "      <td>Oakland</td>\n",
       "      <td>United States</td>\n",
       "      <td>North America</td>\n",
       "      <td>2014</td>\n",
       "      <td>$330M</td>\n",
       "      <td>Uncork Capital, Threshold Ventures, Bloomberg ...</td>\n",
       "      <td>2021</td>\n",
       "      <td>7</td>\n",
       "      <td>3</td>\n",
       "    </tr>\n",
       "    <tr>\n",
       "      <th>247</th>\n",
       "      <td>Automattic</td>\n",
       "      <td>$3B</td>\n",
       "      <td>2013-05-27</td>\n",
       "      <td>Internet software &amp; services</td>\n",
       "      <td>San Francisco</td>\n",
       "      <td>United States</td>\n",
       "      <td>North America</td>\n",
       "      <td>2005</td>\n",
       "      <td>$859M</td>\n",
       "      <td>Insight Venture Partners, Lowercase Capital, P...</td>\n",
       "      <td>2013</td>\n",
       "      <td>8</td>\n",
       "      <td>3</td>\n",
       "    </tr>\n",
       "    <tr>\n",
       "      <th>648</th>\n",
       "      <td>Wacai</td>\n",
       "      <td>$1B</td>\n",
       "      <td>2018-07-18</td>\n",
       "      <td>Mobile &amp; telecommunications</td>\n",
       "      <td>Hangzhou</td>\n",
       "      <td>China</td>\n",
       "      <td>Asia</td>\n",
       "      <td>2009</td>\n",
       "      <td>$369M</td>\n",
       "      <td>Qiming Venture Partners, China Broadband Capit...</td>\n",
       "      <td>2018</td>\n",
       "      <td>9</td>\n",
       "      <td>1</td>\n",
       "    </tr>\n",
       "    <tr>\n",
       "      <th>992</th>\n",
       "      <td>PandaDoc</td>\n",
       "      <td>$1B</td>\n",
       "      <td>2021-09-22</td>\n",
       "      <td>Internet software &amp; services</td>\n",
       "      <td>San Francisco</td>\n",
       "      <td>United States</td>\n",
       "      <td>North America</td>\n",
       "      <td>2016</td>\n",
       "      <td>$51M</td>\n",
       "      <td>Rembrandt Venture Partners, M12, Altos Ventures</td>\n",
       "      <td>2021</td>\n",
       "      <td>5</td>\n",
       "      <td>1</td>\n",
       "    </tr>\n",
       "    <tr>\n",
       "      <th>644</th>\n",
       "      <td>UISEE Technology</td>\n",
       "      <td>$1B</td>\n",
       "      <td>2021-01-25</td>\n",
       "      <td>Supply chain, logistics, &amp; delivery</td>\n",
       "      <td>Beijing</td>\n",
       "      <td>China</td>\n",
       "      <td>Asia</td>\n",
       "      <td>2016</td>\n",
       "      <td>$154M</td>\n",
       "      <td>Shenzhen Capital Group, Robert Bosch Venture C...</td>\n",
       "      <td>2021</td>\n",
       "      <td>5</td>\n",
       "      <td>1</td>\n",
       "    </tr>\n",
       "    <tr>\n",
       "      <th>1059</th>\n",
       "      <td>Watershed</td>\n",
       "      <td>$1B</td>\n",
       "      <td>2022-02-08</td>\n",
       "      <td>Internet software &amp; services</td>\n",
       "      <td>San Francisco</td>\n",
       "      <td>United States</td>\n",
       "      <td>North America</td>\n",
       "      <td>2019</td>\n",
       "      <td>$70M</td>\n",
       "      <td>Kleiner Perkins Caufield &amp; Byers, Sequoia Capital</td>\n",
       "      <td>2022</td>\n",
       "      <td>3</td>\n",
       "      <td>1</td>\n",
       "    </tr>\n",
       "    <tr>\n",
       "      <th>408</th>\n",
       "      <td>Matillion</td>\n",
       "      <td>$2B</td>\n",
       "      <td>2021-09-15</td>\n",
       "      <td>Data management &amp; analytics</td>\n",
       "      <td>Altrincham</td>\n",
       "      <td>United Kingdom</td>\n",
       "      <td>Europe</td>\n",
       "      <td>2011</td>\n",
       "      <td>$310M</td>\n",
       "      <td>Scale Venture Partners, Sapphire Ventures, Bat...</td>\n",
       "      <td>2021</td>\n",
       "      <td>10</td>\n",
       "      <td>2</td>\n",
       "    </tr>\n",
       "    <tr>\n",
       "      <th>798</th>\n",
       "      <td>Modern Health</td>\n",
       "      <td>$1B</td>\n",
       "      <td>2021-02-11</td>\n",
       "      <td>Health</td>\n",
       "      <td>San Francisco</td>\n",
       "      <td>United States</td>\n",
       "      <td>North America</td>\n",
       "      <td>2017</td>\n",
       "      <td>$167M</td>\n",
       "      <td>Kleiner Perkins Caufield &amp; Byers, Afore Capita...</td>\n",
       "      <td>2021</td>\n",
       "      <td>4</td>\n",
       "      <td>1</td>\n",
       "    </tr>\n",
       "    <tr>\n",
       "      <th>843</th>\n",
       "      <td>Socar</td>\n",
       "      <td>$1B</td>\n",
       "      <td>2020-10-16</td>\n",
       "      <td>Auto &amp; transportation</td>\n",
       "      <td>Jeju-do</td>\n",
       "      <td>South Korea</td>\n",
       "      <td>Asia</td>\n",
       "      <td>2012</td>\n",
       "      <td>$408M</td>\n",
       "      <td>Bain Capital, Altos Ventures, Songhyun Investment</td>\n",
       "      <td>2020</td>\n",
       "      <td>8</td>\n",
       "      <td>1</td>\n",
       "    </tr>\n",
       "    <tr>\n",
       "      <th>1038</th>\n",
       "      <td>TechStyle Fashion Group</td>\n",
       "      <td>$1B</td>\n",
       "      <td>2014-08-29</td>\n",
       "      <td>E-commerce &amp; direct-to-consumer</td>\n",
       "      <td>El Segundo</td>\n",
       "      <td>United States</td>\n",
       "      <td>North America</td>\n",
       "      <td>2010</td>\n",
       "      <td>$336M</td>\n",
       "      <td>Matrix Partners, Passport Capital, Rho Ventures</td>\n",
       "      <td>2014</td>\n",
       "      <td>4</td>\n",
       "      <td>1</td>\n",
       "    </tr>\n",
       "    <tr>\n",
       "      <th>446</th>\n",
       "      <td>HomeLight</td>\n",
       "      <td>$2B</td>\n",
       "      <td>2021-09-02</td>\n",
       "      <td>Fintech</td>\n",
       "      <td>San Francisco</td>\n",
       "      <td>United States</td>\n",
       "      <td>North America</td>\n",
       "      <td>2012</td>\n",
       "      <td>$219M</td>\n",
       "      <td>Zeev Ventures, Menlo Ventures,Crosslink Capital</td>\n",
       "      <td>2021</td>\n",
       "      <td>9</td>\n",
       "      <td>2</td>\n",
       "    </tr>\n",
       "    <tr>\n",
       "      <th>526</th>\n",
       "      <td>Forto</td>\n",
       "      <td>$2B</td>\n",
       "      <td>2021-06-21</td>\n",
       "      <td>Supply chain, logistics, &amp; delivery</td>\n",
       "      <td>Berlin</td>\n",
       "      <td>Germany</td>\n",
       "      <td>Europe</td>\n",
       "      <td>2016</td>\n",
       "      <td>$593M</td>\n",
       "      <td>Cherry Ventures, Northzone Ventures, Global Fo...</td>\n",
       "      <td>2021</td>\n",
       "      <td>5</td>\n",
       "      <td>2</td>\n",
       "    </tr>\n",
       "    <tr>\n",
       "      <th>14</th>\n",
       "      <td>Chime</td>\n",
       "      <td>$25B</td>\n",
       "      <td>2019-03-05</td>\n",
       "      <td>Fintech</td>\n",
       "      <td>San Francisco</td>\n",
       "      <td>United States</td>\n",
       "      <td>North America</td>\n",
       "      <td>2013</td>\n",
       "      <td>$2B</td>\n",
       "      <td>Forerunner Ventures, Crosslink Capital, Homebrew</td>\n",
       "      <td>2019</td>\n",
       "      <td>6</td>\n",
       "      <td>25</td>\n",
       "    </tr>\n",
       "    <tr>\n",
       "      <th>600</th>\n",
       "      <td>Xingyun Group</td>\n",
       "      <td>$2B</td>\n",
       "      <td>2020-09-24</td>\n",
       "      <td>E-commerce &amp; direct-to-consumer</td>\n",
       "      <td>Shenzhen</td>\n",
       "      <td>China</td>\n",
       "      <td>Asia</td>\n",
       "      <td>2015</td>\n",
       "      <td>$950M</td>\n",
       "      <td>Matrix Partners China, Eastern Bell Capital, H...</td>\n",
       "      <td>2020</td>\n",
       "      <td>5</td>\n",
       "      <td>2</td>\n",
       "    </tr>\n",
       "    <tr>\n",
       "      <th>1028</th>\n",
       "      <td>SMS Assist</td>\n",
       "      <td>$1B</td>\n",
       "      <td>2016-06-07</td>\n",
       "      <td>Internet software &amp; services</td>\n",
       "      <td>Chicago</td>\n",
       "      <td>United States</td>\n",
       "      <td>North America</td>\n",
       "      <td>2003</td>\n",
       "      <td>$255M</td>\n",
       "      <td>Goldman Sachs, Insights Venture Partners, Prit...</td>\n",
       "      <td>2016</td>\n",
       "      <td>13</td>\n",
       "      <td>1</td>\n",
       "    </tr>\n",
       "    <tr>\n",
       "      <th>1013</th>\n",
       "      <td>Rothy's</td>\n",
       "      <td>$1B</td>\n",
       "      <td>2021-12-21</td>\n",
       "      <td>Consumer &amp; retail</td>\n",
       "      <td>San Francisco</td>\n",
       "      <td>United States</td>\n",
       "      <td>North America</td>\n",
       "      <td>2016</td>\n",
       "      <td>$484M</td>\n",
       "      <td>Alpargatas, GS Growth, Lightspeed Venture Part...</td>\n",
       "      <td>2021</td>\n",
       "      <td>5</td>\n",
       "      <td>1</td>\n",
       "    </tr>\n",
       "    <tr>\n",
       "      <th>85</th>\n",
       "      <td>Meicai</td>\n",
       "      <td>$7B</td>\n",
       "      <td>2016-06-22</td>\n",
       "      <td>Mobile &amp; telecommunications</td>\n",
       "      <td>Beijing</td>\n",
       "      <td>China</td>\n",
       "      <td>Asia</td>\n",
       "      <td>2014</td>\n",
       "      <td>$1B</td>\n",
       "      <td>Tiger Global Management, Blue Lake Capital, Zh...</td>\n",
       "      <td>2016</td>\n",
       "      <td>2</td>\n",
       "      <td>7</td>\n",
       "    </tr>\n",
       "    <tr>\n",
       "      <th>334</th>\n",
       "      <td>Delhivery</td>\n",
       "      <td>$3B</td>\n",
       "      <td>2019-02-27</td>\n",
       "      <td>Supply chain, logistics, &amp; delivery</td>\n",
       "      <td>Gurgaon</td>\n",
       "      <td>India</td>\n",
       "      <td>Asia</td>\n",
       "      <td>2011</td>\n",
       "      <td>$1B</td>\n",
       "      <td>Times Internet, Nexus Venture Partners, SoftBa...</td>\n",
       "      <td>2019</td>\n",
       "      <td>8</td>\n",
       "      <td>3</td>\n",
       "    </tr>\n",
       "    <tr>\n",
       "      <th>205</th>\n",
       "      <td>Dutchie</td>\n",
       "      <td>$4B</td>\n",
       "      <td>2021-03-16</td>\n",
       "      <td>E-commerce &amp; direct-to-consumer</td>\n",
       "      <td>Bend</td>\n",
       "      <td>United States</td>\n",
       "      <td>North America</td>\n",
       "      <td>2017</td>\n",
       "      <td>$603M</td>\n",
       "      <td>Casa Verde Capital, Gron Ventures, Thrity Five...</td>\n",
       "      <td>2021</td>\n",
       "      <td>4</td>\n",
       "      <td>4</td>\n",
       "    </tr>\n",
       "    <tr>\n",
       "      <th>609</th>\n",
       "      <td>CredAvenue</td>\n",
       "      <td>$1B</td>\n",
       "      <td>2022-03-07</td>\n",
       "      <td>Fintech</td>\n",
       "      <td>Chennai</td>\n",
       "      <td>India</td>\n",
       "      <td>Asia</td>\n",
       "      <td>2017</td>\n",
       "      <td>$227M</td>\n",
       "      <td>Insight Partners, B Capital Group, Lightspeed ...</td>\n",
       "      <td>2022</td>\n",
       "      <td>5</td>\n",
       "      <td>1</td>\n",
       "    </tr>\n",
       "    <tr>\n",
       "      <th>152</th>\n",
       "      <td>Creditas</td>\n",
       "      <td>$5B</td>\n",
       "      <td>2020-12-18</td>\n",
       "      <td>Fintech</td>\n",
       "      <td>Sao Paulo</td>\n",
       "      <td>Brazil</td>\n",
       "      <td>South America</td>\n",
       "      <td>2012</td>\n",
       "      <td>$824M</td>\n",
       "      <td>Kaszek Ventures, Amadeus Capital Partners, Quo...</td>\n",
       "      <td>2020</td>\n",
       "      <td>8</td>\n",
       "      <td>5</td>\n",
       "    </tr>\n",
       "    <tr>\n",
       "      <th>594</th>\n",
       "      <td>Tier</td>\n",
       "      <td>$2B</td>\n",
       "      <td>2021-10-25</td>\n",
       "      <td>Travel</td>\n",
       "      <td>Berlin</td>\n",
       "      <td>Germany</td>\n",
       "      <td>Europe</td>\n",
       "      <td>2018</td>\n",
       "      <td>$587M</td>\n",
       "      <td>Northzone Ventures, White Star Capital, Novato...</td>\n",
       "      <td>2021</td>\n",
       "      <td>3</td>\n",
       "      <td>2</td>\n",
       "    </tr>\n",
       "    <tr>\n",
       "      <th>957</th>\n",
       "      <td>Locus Robotics</td>\n",
       "      <td>$1B</td>\n",
       "      <td>2021-02-17</td>\n",
       "      <td>Hardware</td>\n",
       "      <td>Wilmington</td>\n",
       "      <td>United States</td>\n",
       "      <td>North America</td>\n",
       "      <td>2014</td>\n",
       "      <td>$299M</td>\n",
       "      <td>Scale Venture Partners, Bond, Tiger Global Man...</td>\n",
       "      <td>2021</td>\n",
       "      <td>7</td>\n",
       "      <td>1</td>\n",
       "    </tr>\n",
       "    <tr>\n",
       "      <th>449</th>\n",
       "      <td>Mercury</td>\n",
       "      <td>$2B</td>\n",
       "      <td>2021-07-03</td>\n",
       "      <td>Fintech</td>\n",
       "      <td>San Francisco</td>\n",
       "      <td>United States</td>\n",
       "      <td>North America</td>\n",
       "      <td>2019</td>\n",
       "      <td>$152M</td>\n",
       "      <td>Andreessen Horowitz, Coatue Management, Clockt...</td>\n",
       "      <td>2021</td>\n",
       "      <td>2</td>\n",
       "      <td>2</td>\n",
       "    </tr>\n",
       "    <tr>\n",
       "      <th>1016</th>\n",
       "      <td>Scalapay</td>\n",
       "      <td>$1B</td>\n",
       "      <td>2022-02-23</td>\n",
       "      <td>Fintech</td>\n",
       "      <td>Milan</td>\n",
       "      <td>Italy</td>\n",
       "      <td>Europe</td>\n",
       "      <td>2019</td>\n",
       "      <td>$416M</td>\n",
       "      <td>Fasanara Capital, Tiger Global Management, Bal...</td>\n",
       "      <td>2022</td>\n",
       "      <td>3</td>\n",
       "      <td>1</td>\n",
       "    </tr>\n",
       "  </tbody>\n",
       "</table>\n",
       "</div>"
      ],
      "text/plain": [
       "                      Company Valuation Date Joined  \\\n",
       "605                   Aprogen       $1B  2019-05-31   \n",
       "94                   Scale AI       $7B  2019-08-05   \n",
       "981                  NoBroker       $1B  2021-11-23   \n",
       "918                   FlashEx       $1B  2018-08-27   \n",
       "694                Deliverect       $1B  2022-01-24   \n",
       "271                 Varo Bank       $3B  2021-09-09   \n",
       "510                Lightricks       $2B  2019-07-31   \n",
       "528                  InVision       $2B  2017-11-01   \n",
       "62                    Yanolja       $9B  2019-06-10   \n",
       "426                    Veriff       $2B  2022-01-26   \n",
       "445                   ezCater       $2B  2019-04-02   \n",
       "226                 Clubhouse       $4B  2021-01-24   \n",
       "809                      apna       $1B  2021-09-15   \n",
       "183                 Handshake       $4B  2021-05-12   \n",
       "588                     Quora       $2B  2017-04-21   \n",
       "224          Cerebras Systems       $4B  2018-11-14   \n",
       "0                   Bytedance     $180B  2017-04-07   \n",
       "838                      Nxin       $1B  2018-09-18   \n",
       "336               Flutterwave       $3B  2021-03-09   \n",
       "1049                TrueLayer       $1B  2021-09-21   \n",
       "1061                    WeLab       $1B  2017-11-08   \n",
       "937                    Ibotta       $1B  2019-08-06   \n",
       "859             Alto Pharmacy       $1B  2020-01-30   \n",
       "660                  Eat Just       $1B  2017-11-30   \n",
       "20                      Rapyd      $15B  2019-12-03   \n",
       "343              LaunchDarkly       $3B  2021-08-10   \n",
       "247                Automattic       $3B  2013-05-27   \n",
       "648                     Wacai       $1B  2018-07-18   \n",
       "992                  PandaDoc       $1B  2021-09-22   \n",
       "644          UISEE Technology       $1B  2021-01-25   \n",
       "1059                Watershed       $1B  2022-02-08   \n",
       "408                 Matillion       $2B  2021-09-15   \n",
       "798             Modern Health       $1B  2021-02-11   \n",
       "843                     Socar       $1B  2020-10-16   \n",
       "1038  TechStyle Fashion Group       $1B  2014-08-29   \n",
       "446                 HomeLight       $2B  2021-09-02   \n",
       "526                     Forto       $2B  2021-06-21   \n",
       "14                      Chime      $25B  2019-03-05   \n",
       "600             Xingyun Group       $2B  2020-09-24   \n",
       "1028               SMS Assist       $1B  2016-06-07   \n",
       "1013                  Rothy's       $1B  2021-12-21   \n",
       "85                     Meicai       $7B  2016-06-22   \n",
       "334                 Delhivery       $3B  2019-02-27   \n",
       "205                   Dutchie       $4B  2021-03-16   \n",
       "609                CredAvenue       $1B  2022-03-07   \n",
       "152                  Creditas       $5B  2020-12-18   \n",
       "594                      Tier       $2B  2021-10-25   \n",
       "957            Locus Robotics       $1B  2021-02-17   \n",
       "449                   Mercury       $2B  2021-07-03   \n",
       "1016                 Scalapay       $1B  2022-02-23   \n",
       "\n",
       "                                 Industry           City  Country/Region  \\\n",
       "605                                Health    Seongnam-Si     South Korea   \n",
       "94                Artificial intelligence  San Francisco   United States   \n",
       "981          Internet software & services      Bengaluru           India   \n",
       "918   Supply chain, logistics, & delivery        Beijing           China   \n",
       "694                               Fintech          Ghent         Belgium   \n",
       "271                               Fintech  San Francisco   United States   \n",
       "510               Artificial intelligence      Jerusalem          Israel   \n",
       "528          Internet software & services       New York   United States   \n",
       "62                                 Travel          Seoul     South Korea   \n",
       "426               Artificial intelligence        Tallinn         Estonia   \n",
       "445   Supply chain, logistics, & delivery         Boston   United States   \n",
       "226           Mobile & telecommunications  San Francisco   United States   \n",
       "809          Internet software & services      Bengaluru           India   \n",
       "183          Internet software & services  San Francisco   United States   \n",
       "588          Internet software & services  Mountain View   United States   \n",
       "224                              Hardware      Los Altos   United States   \n",
       "0                 Artificial intelligence        Beijing           China   \n",
       "838          Internet software & services        Beijing           China   \n",
       "336                               Fintech  San Francisco   United States   \n",
       "1049                              Fintech         London  United Kingdom   \n",
       "1061                              Fintech            NaN       Hong Kong   \n",
       "937                               Fintech         Denver   United States   \n",
       "859                                Health  San Francisco   United States   \n",
       "660                     Consumer & retail  San Francisco   United States   \n",
       "20                                Fintech         London  United Kingdom   \n",
       "343          Internet software & services        Oakland   United States   \n",
       "247          Internet software & services  San Francisco   United States   \n",
       "648           Mobile & telecommunications       Hangzhou           China   \n",
       "992          Internet software & services  San Francisco   United States   \n",
       "644   Supply chain, logistics, & delivery        Beijing           China   \n",
       "1059         Internet software & services  San Francisco   United States   \n",
       "408           Data management & analytics     Altrincham  United Kingdom   \n",
       "798                                Health  San Francisco   United States   \n",
       "843                 Auto & transportation        Jeju-do     South Korea   \n",
       "1038      E-commerce & direct-to-consumer     El Segundo   United States   \n",
       "446                               Fintech  San Francisco   United States   \n",
       "526   Supply chain, logistics, & delivery         Berlin         Germany   \n",
       "14                                Fintech  San Francisco   United States   \n",
       "600       E-commerce & direct-to-consumer       Shenzhen           China   \n",
       "1028         Internet software & services        Chicago   United States   \n",
       "1013                    Consumer & retail  San Francisco   United States   \n",
       "85            Mobile & telecommunications        Beijing           China   \n",
       "334   Supply chain, logistics, & delivery        Gurgaon           India   \n",
       "205       E-commerce & direct-to-consumer           Bend   United States   \n",
       "609                               Fintech        Chennai           India   \n",
       "152                               Fintech      Sao Paulo          Brazil   \n",
       "594                                Travel         Berlin         Germany   \n",
       "957                              Hardware     Wilmington   United States   \n",
       "449                               Fintech  San Francisco   United States   \n",
       "1016                              Fintech          Milan           Italy   \n",
       "\n",
       "          Continent  Year Founded Funding  \\\n",
       "605            Asia          2000    $62M   \n",
       "94    North America          2018   $603M   \n",
       "981            Asia          2014   $424M   \n",
       "918            Asia          2014   $359M   \n",
       "694          Europe          2018   $237M   \n",
       "271   North America          2015   $987M   \n",
       "510            Asia          2013   $305M   \n",
       "528   North America          2011   $349M   \n",
       "62             Asia          2005     $2B   \n",
       "426          Europe          2015   $177M   \n",
       "445   North America          2007   $421M   \n",
       "226   North America          2020   $110M   \n",
       "809            Asia          2019   $193M   \n",
       "183   North America          2014   $434M   \n",
       "588   North America          2009   $226M   \n",
       "224   North America          2016   $720M   \n",
       "0              Asia          2012     $8B   \n",
       "838            Asia          2015    $53M   \n",
       "336   North America          2016   $474M   \n",
       "1049         Europe          2016   $271M   \n",
       "1061           Asia          2013   $871M   \n",
       "937   North America          2011    $93M   \n",
       "859   North America          2015   $524M   \n",
       "660   North America          2011   $440M   \n",
       "20           Europe          2016   $770M   \n",
       "343   North America          2014   $330M   \n",
       "247   North America          2005   $859M   \n",
       "648            Asia          2009   $369M   \n",
       "992   North America          2016    $51M   \n",
       "644            Asia          2016   $154M   \n",
       "1059  North America          2019    $70M   \n",
       "408          Europe          2011   $310M   \n",
       "798   North America          2017   $167M   \n",
       "843            Asia          2012   $408M   \n",
       "1038  North America          2010   $336M   \n",
       "446   North America          2012   $219M   \n",
       "526          Europe          2016   $593M   \n",
       "14    North America          2013     $2B   \n",
       "600            Asia          2015   $950M   \n",
       "1028  North America          2003   $255M   \n",
       "1013  North America          2016   $484M   \n",
       "85             Asia          2014     $1B   \n",
       "334            Asia          2011     $1B   \n",
       "205   North America          2017   $603M   \n",
       "609            Asia          2017   $227M   \n",
       "152   South America          2012   $824M   \n",
       "594          Europe          2018   $587M   \n",
       "957   North America          2014   $299M   \n",
       "449   North America          2019   $152M   \n",
       "1016         Europe          2019   $416M   \n",
       "\n",
       "                                       Select Investors  Year Joined  \\\n",
       "605   Lindeman Asia Investment, Nichi-Iko Pharmaceut...         2019   \n",
       "94                  Accel, Y Combinator, Index Ventures         2019   \n",
       "981        General Atlantic, Elevation Capital, BEENEXT         2021   \n",
       "918   Prometheus Capital, Matrix Partners China, JD ...         2018   \n",
       "694   Newion Partners, SmartFin Capital, OMERS Ventures         2022   \n",
       "271   Warburg Pincus, The Rise Fund, HarbourVest Par...         2021   \n",
       "510   Viola Ventures, Insight Partners, ClalTech, Go...         2019   \n",
       "528   FirstMark Capital, Tiger Global Management, IC...         2017   \n",
       "62       SBI Investment Korea, Partners Investment, GIC         2019   \n",
       "426   Accel, Institutional Venture Partners, Tiger G...         2022   \n",
       "445   Insight Venture Partners, ICONIQ Capital, Laun...         2019   \n",
       "226                    Andreessen Horowitz, TQ Ventures         2021   \n",
       "809   Sequoia Capital India, Rocketship.vc, Lightspe...         2021   \n",
       "183   Kleiner Perkins Caufield & Byers, Lightspeed V...         2021   \n",
       "588            Y Combinator, Matrix Partners, Benchmark         2017   \n",
       "224      Benchmark, Foundation Capital, Sequoia Capital         2018   \n",
       "0     Sequoia Capital China, SIG Asia Investments, S...         2017   \n",
       "838   Beijing Juneng Hesheng Industry Investment Fun...         2018   \n",
       "336   Green Visor Capital, CRE Venture Capital, Grey...         2021   \n",
       "1049     Anthemis, Connect Ventures, Northzone Ventures         2021   \n",
       "1061  Sequoia Capital China, ING, Alibaba Entreprene...         2017   \n",
       "937   Koch Disruptive Technologies, Teamworthy Ventu...         2019   \n",
       "859   Jackson Square Ventures, Greenoaks Capital Man...         2020   \n",
       "660   Khosla Ventures, Horizons Ventures, Founders Fund         2017   \n",
       "20    Target Global, General Catalyst, Durable Capit...         2019   \n",
       "343   Uncork Capital, Threshold Ventures, Bloomberg ...         2021   \n",
       "247   Insight Venture Partners, Lowercase Capital, P...         2013   \n",
       "648   Qiming Venture Partners, China Broadband Capit...         2018   \n",
       "992     Rembrandt Venture Partners, M12, Altos Ventures         2021   \n",
       "644   Shenzhen Capital Group, Robert Bosch Venture C...         2021   \n",
       "1059  Kleiner Perkins Caufield & Byers, Sequoia Capital         2022   \n",
       "408   Scale Venture Partners, Sapphire Ventures, Bat...         2021   \n",
       "798   Kleiner Perkins Caufield & Byers, Afore Capita...         2021   \n",
       "843   Bain Capital, Altos Ventures, Songhyun Investment         2020   \n",
       "1038    Matrix Partners, Passport Capital, Rho Ventures         2014   \n",
       "446     Zeev Ventures, Menlo Ventures,Crosslink Capital         2021   \n",
       "526   Cherry Ventures, Northzone Ventures, Global Fo...         2021   \n",
       "14     Forerunner Ventures, Crosslink Capital, Homebrew         2019   \n",
       "600   Matrix Partners China, Eastern Bell Capital, H...         2020   \n",
       "1028  Goldman Sachs, Insights Venture Partners, Prit...         2016   \n",
       "1013  Alpargatas, GS Growth, Lightspeed Venture Part...         2021   \n",
       "85    Tiger Global Management, Blue Lake Capital, Zh...         2016   \n",
       "334   Times Internet, Nexus Venture Partners, SoftBa...         2019   \n",
       "205   Casa Verde Capital, Gron Ventures, Thrity Five...         2021   \n",
       "609   Insight Partners, B Capital Group, Lightspeed ...         2022   \n",
       "152   Kaszek Ventures, Amadeus Capital Partners, Quo...         2020   \n",
       "594   Northzone Ventures, White Star Capital, Novato...         2021   \n",
       "957   Scale Venture Partners, Bond, Tiger Global Man...         2021   \n",
       "449   Andreessen Horowitz, Coatue Management, Clockt...         2021   \n",
       "1016  Fasanara Capital, Tiger Global Management, Bal...         2022   \n",
       "\n",
       "      year_to_unicorn  Valuation Amount  \n",
       "605                19                 1  \n",
       "94                  1                 7  \n",
       "981                 7                 1  \n",
       "918                 4                 1  \n",
       "694                 4                 1  \n",
       "271                 6                 3  \n",
       "510                 6                 2  \n",
       "528                 6                 2  \n",
       "62                 14                 9  \n",
       "426                 7                 2  \n",
       "445                12                 2  \n",
       "226                 1                 4  \n",
       "809                 2                 1  \n",
       "183                 7                 4  \n",
       "588                 8                 2  \n",
       "224                 2                 4  \n",
       "0                   5               180  \n",
       "838                 3                 1  \n",
       "336                 5                 3  \n",
       "1049                5                 1  \n",
       "1061                4                 1  \n",
       "937                 8                 1  \n",
       "859                 5                 1  \n",
       "660                 6                 1  \n",
       "20                  3                15  \n",
       "343                 7                 3  \n",
       "247                 8                 3  \n",
       "648                 9                 1  \n",
       "992                 5                 1  \n",
       "644                 5                 1  \n",
       "1059                3                 1  \n",
       "408                10                 2  \n",
       "798                 4                 1  \n",
       "843                 8                 1  \n",
       "1038                4                 1  \n",
       "446                 9                 2  \n",
       "526                 5                 2  \n",
       "14                  6                25  \n",
       "600                 5                 2  \n",
       "1028               13                 1  \n",
       "1013                5                 1  \n",
       "85                  2                 7  \n",
       "334                 8                 3  \n",
       "205                 4                 4  \n",
       "609                 5                 1  \n",
       "152                 8                 5  \n",
       "594                 3                 2  \n",
       "957                 7                 1  \n",
       "449                 2                 2  \n",
       "1016                3                 1  "
      ]
     },
     "execution_count": 44,
     "metadata": {},
     "output_type": "execute_result"
    }
   ],
   "source": [
    "# Step 1: Use sample() with the n parameter set to 50 to randomly sample 50 unicorn companies from the data. \n",
    "# Specify the random_state parameter so that if you run this cell multiple times, you get the same sample each time. \n",
    "# Step 2: Save the result in a new variable.\n",
    "sample = companies.sample(50,random_state=42)\n",
    "sample"
   ]
  },
  {
   "cell_type": "markdown",
   "metadata": {
    "id": "10beff64-16e0-464d-93f0-03ab61f7069b",
    "tags": []
   },
   "source": [
    "### Visualize the time it took companies to reach unicorn status\n",
    "\n",
    "Visualize the longest time it took companies to reach unicorn status for each industry represented in the sample. To create a bar plot to visualize this, use the `bar()` function from the `matplotlib.pyplot` module."
   ]
  },
  {
   "cell_type": "code",
   "execution_count": 38,
   "metadata": {
    "id": "1153ca76-f1e3-4fea-a2db-a5de23614abd"
   },
   "outputs": [
    {
     "data": {
      "image/png": "[encoded data removed]",
      "text/plain": [
       "<Figure size 1080x720 with 1 Axes>"
      ]
     },
     "metadata": {
      "needs_background": "light"
     },
     "output_type": "display_data"
    }
   ],
   "source": [
    "# Create bar plot\n",
    "# with Industry column as the categories of the bars\n",
    "# and the difference in years between Year Joined column and Year Founded column as the heights of the bars\n",
    "\n",
    "sample.sort_values('year_to_unicorn',ascending=False,inplace=True)\n",
    "\n",
    "plt.figure(figsize=(15,10))\n",
    "plt.bar(sample['Industry'],sample['year_to_unicorn'],label='Years Duration')\n",
    "\n",
    "# Set title\n",
    "plt.title('Years duration for a company to beacome unicorn by Industry',fontsize = 18)\n",
    "\n",
    "# Set x-axis label\n",
    "plt.xlabel('Companies by Industry',fontsize = 16)\n",
    "\n",
    "# Set y-axis label\n",
    "plt.ylabel('Years to Unicorn',fontsize = 16)\n",
    "\n",
    "# Rotate labels on the x-axis as a way to avoid overlap in the positions of the text\n",
    "plt.xticks(rotation=45, horizontalalignment = 'right', fontsize = 12)\n",
    "\n",
    "# Set up the scale range of the y-axis to be from 0 to 100 by step 10. (my comment)\n",
    "\n",
    "\n",
    "# Display the plot\n",
    "plt.legend(fontsize=12)\n",
    "plt.show()\n"
   ]
  },
  {
   "cell_type": "markdown",
   "metadata": {
    "id": "BtgkB4fVudvo",
    "jp-MarkdownHeadingCollapsed": true,
    "tags": []
   },
   "source": [
    "<details>\n",
    "  <summary><h4><strong>Hint 1</strong></h4></summary>\n",
    "\n",
    "Refer to what you have learned about creating bar plots as part of [exploratory data analysis](https://www.coursera.org/learn/go-beyond-the-numbers-translate-data-into-insight/lecture/4k4Vg/eda-using-basic-data-functions-with-python).\n",
    "\n",
    "</details>"
   ]
  },
  {
   "cell_type": "markdown",
   "metadata": {
    "id": "bHCMc83Nudvq",
    "jp-MarkdownHeadingCollapsed": true,
    "tags": []
   },
   "source": [
    "<details>\n",
    "  <summary><h4><strong>Hint 2</strong></h4></summary>\n",
    "\n",
    "There is a function in the `matplotlib.pyplot` module that allows you to create a bar plot, specifying the category and height for each bar. \n",
    "\n",
    "There are functions in the `matplotlib.pyplot` module that allow you to set the title, x-axis label, and y-axis label of plots. In that module, there are also functions for rotating the labels on the x-axis and displaying the plot. \n",
    "\n",
    "</details>"
   ]
  },
  {
   "cell_type": "markdown",
   "metadata": {
    "id": "ttH8ynAyudvr",
    "jp-MarkdownHeadingCollapsed": true,
    "tags": []
   },
   "source": [
    "<details>\n",
    "  <summary><h4><strong>Hint 3</strong></h4></summary>\n",
    "\n",
    "You can use the `plt.bar()` to create the bar plot, passing in the categories and heights of the bars.\n",
    "\n",
    "You can use `plt.title()`, `plt.xlabel()`, and `plt.ylabel()` to set the title, x-axis label, and y-axis label, respectively. \n",
    "\n",
    "You can use `plt.xticks()` to rotate labels on the x-axis of a plot. The parameters `rotation=45, horizontalalignment='right'` can be passed in to rotate the labels by 45 degrees and align the labels to the right. \n",
    "\n",
    "You can use `plt.show()` to display a plot.\n",
    "\n",
    "</details>"
   ]
  },
  {
   "cell_type": "markdown",
   "metadata": {
    "id": "59a1254d-4c99-49a6-b8fa-8dbd26bff000"
   },
   "source": [
    "**Question:** What do you observe from this bar plot?"
   ]
  },
  {
   "cell_type": "markdown",
   "metadata": {
    "id": "QNdABMI_lUdO"
   },
   "source": [
    "**Answer:**  \n",
    ">The above bar plot we created, illustrates the longest time that the companies in each industry made to join the unicorn company club. With descending sort order we can see that the industries, the companies of which, made the longest time to became unicorn firms, is the Fintech & Health industries while on the other hand the companies that belong to the Travel industry reached the unicorn levels in approximately 4 years,which makes it the minimum variance between the year founded and the year joined status."
   ]
  },
  {
   "cell_type": "markdown",
   "metadata": {},
   "source": [
    "#### Let's compare the results of our sample dataset, to the results of the total dataset."
   ]
  },
  {
   "cell_type": "code",
   "execution_count": 39,
   "metadata": {},
   "outputs": [
    {
     "data": {
      "image/png": "[encoded data removed]",
      "text/plain": [
       "<Figure size 1080x720 with 1 Axes>"
      ]
     },
     "metadata": {
      "needs_background": "light"
     },
     "output_type": "display_data"
    }
   ],
   "source": [
    "companies.sort_values('year_to_unicorn',ascending=False,inplace=True)\n",
    "plt.figure(figsize=(15,10))\n",
    "plt.bar(companies['Industry'],companies['year_to_unicorn'],label='Years Duration')\n",
    "plt.title('Years duration for a company to beacome unicorn by Industry',fontsize = 18)\n",
    "plt.xlabel('Companies by Industry',fontsize = 16)\n",
    "plt.ylabel('Years to Unicorn',fontsize = 16)\n",
    "plt.xticks(rotation=45, horizontalalignment = 'right', fontsize = 12)\n",
    "plt.legend(fontsize=12)\n",
    "plt.show()"
   ]
  },
  {
   "cell_type": "markdown",
   "metadata": {},
   "source": [
    "**Finding:**\n",
    ">It seems that a typo in the data create a double category for the Artificial Inteligence industry as the word\n",
    "'Intelligence' appear both ways , with a capital 'I' and with a low 'i'. This should be converted to one category."
   ]
  },
  {
   "cell_type": "code",
   "execution_count": 40,
   "metadata": {},
   "outputs": [],
   "source": [
    "# Run again the above plotting code after you execute the replace method to review the plot again and see what chaged!\n",
    "companies['Industry'] = companies['Industry'].replace('Artificial Intelligence', 'Artificial intelligence')"
   ]
  },
  {
   "cell_type": "markdown",
   "metadata": {},
   "source": [
    "**Question:** What do you observe from this bar plot in comparisson with the bar plot of the sample dataset?"
   ]
  },
  {
   "cell_type": "markdown",
   "metadata": {},
   "source": [
    "**Answer:**\n",
    ">In the total dataset it seems that the Health industry is the one who distanced the most years to join the unicorn club, givving us almost the same image as the sample dataset in which however the Health industry is the second industry with the most years. On the other hand, we can see a big enough difference concerning the Fintech industry which in this case is 4th on the list."
   ]
  },
  {
   "cell_type": "markdown",
   "metadata": {
    "id": "95bc4742-40ff-4f02-ba94-b25f95094e54",
    "tags": []
   },
   "source": [
    "### Visualize the maximum unicorn company valuation per industry\n",
    "\n",
    "Visualize unicorn companies' maximum valuation for each industry represented in the sample. To create a bar plot to visualize this, use the `bar()` function from the `matplotlib.pyplot` module. Before plotting, create a new column that represents the companies' valuations as numbers (instead of strings, as they're currently represented). Then, use this new column to plot your data."
   ]
  },
  {
   "cell_type": "code",
   "execution_count": 41,
   "metadata": {
    "scrolled": true
   },
   "outputs": [
    {
     "name": "stdout",
     "output_type": "stream",
     "text": [
      "<class 'pandas.core.frame.DataFrame'>\n",
      "Int64Index: 1064 entries, 189 to 931\n",
      "Data columns (total 13 columns):\n",
      " #   Column            Non-Null Count  Dtype         \n",
      "---  ------            --------------  -----         \n",
      " 0   Company           1064 non-null   object        \n",
      " 1   Valuation         1064 non-null   object        \n",
      " 2   Date Joined       1064 non-null   datetime64[ns]\n",
      " 3   Industry          1064 non-null   object        \n",
      " 4   City              1048 non-null   object        \n",
      " 5   Country/Region    1064 non-null   object        \n",
      " 6   Continent         1064 non-null   object        \n",
      " 7   Year Founded      1064 non-null   int64         \n",
      " 8   Funding           1064 non-null   object        \n",
      " 9   Select Investors  1063 non-null   object        \n",
      " 10  Year Joined       1064 non-null   int64         \n",
      " 11  year_to_unicorn   1064 non-null   int64         \n",
      " 12  Valuation Amount  1064 non-null   int64         \n",
      "dtypes: datetime64[ns](1), int64(4), object(8)\n",
      "memory usage: 116.4+ KB\n"
     ]
    }
   ],
   "source": [
    "# Create a column representing company valuation as numeric data\n",
    "companies['Valuation Amount'] = companies.Valuation.map(lambda x: x[1:-1]).astype(int)\n",
    "companies.info()\n",
    "# Run again the sample asignment with the companies dataset to asign the new column."
   ]
  },
  {
   "cell_type": "code",
   "execution_count": null,
   "metadata": {},
   "outputs": [],
   "source": []
  },
  {
   "cell_type": "code",
   "execution_count": 46,
   "metadata": {
    "id": "5ccf1d5e-877e-4e73-bba8-23875c72494d"
   },
   "outputs": [
    {
     "data": {
      "image/png": "[encoded data removed]",
      "text/plain": [
       "<Figure size 1080x720 with 1 Axes>"
      ]
     },
     "metadata": {
      "needs_background": "light"
     },
     "output_type": "display_data"
    }
   ],
   "source": [
    "# Create bar plot\n",
    "# with Industry column as the categories of the bars\n",
    "# and new valuation column as the heights of the bars\n",
    "max_valuation = sample.groupby('Industry').max().sort_values('Valuation Amount',ascending=False).reset_index()\n",
    "\n",
    "plt.figure(figsize = (15,10))\n",
    "plt.bar(x=max_valuation['Industry'], height=max_valuation['Valuation Amount'], label = 'Max Valuation per Industry')\n",
    "\n",
    "# Set title\n",
    "plt.title('Max Company Valuation per Industry of Unicorn Companies',fontsize = 18)\n",
    "\n",
    "# Set x-axis label\n",
    "plt.xlabel('Companies per Industry',fontsize = 16)\n",
    "\n",
    "# Set y-axis label\n",
    "plt.ylabel('Max Valuation Amount', fontsize = 16)\n",
    "\n",
    "# Rotate labels on the x-axis as a way to avoid overlap in the positions of the text  \n",
    "plt.xticks(rotation = 45, horizontalalignment = 'right', fontsize = 12)\n",
    "\n",
    "# Display the plot\n",
    "plt.legend(fontsize = 12)\n",
    "plt.show()\n"
   ]
  },
  {
   "cell_type": "code",
   "execution_count": 47,
   "metadata": {},
   "outputs": [
    {
     "data": {
      "text/html": [
       "<div>\n",
       "<style scoped>\n",
       "    .dataframe tbody tr th:only-of-type {\n",
       "        vertical-align: middle;\n",
       "    }\n",
       "\n",
       "    .dataframe tbody tr th {\n",
       "        vertical-align: top;\n",
       "    }\n",
       "\n",
       "    .dataframe thead th {\n",
       "        text-align: right;\n",
       "    }\n",
       "</style>\n",
       "<table border=\"1\" class=\"dataframe\">\n",
       "  <thead>\n",
       "    <tr style=\"text-align: right;\">\n",
       "      <th></th>\n",
       "      <th>Industry</th>\n",
       "      <th>Company</th>\n",
       "      <th>Valuation</th>\n",
       "      <th>Date Joined</th>\n",
       "      <th>Country/Region</th>\n",
       "      <th>Continent</th>\n",
       "      <th>Year Founded</th>\n",
       "      <th>Funding</th>\n",
       "      <th>Select Investors</th>\n",
       "      <th>Year Joined</th>\n",
       "      <th>year_to_unicorn</th>\n",
       "      <th>Valuation Amount</th>\n",
       "    </tr>\n",
       "  </thead>\n",
       "  <tbody>\n",
       "    <tr>\n",
       "      <th>0</th>\n",
       "      <td>Artificial intelligence</td>\n",
       "      <td>Veriff</td>\n",
       "      <td>$7B</td>\n",
       "      <td>2022-01-26</td>\n",
       "      <td>United States</td>\n",
       "      <td>North America</td>\n",
       "      <td>2018</td>\n",
       "      <td>$8B</td>\n",
       "      <td>Viola Ventures, Insight Partners, ClalTech, Go...</td>\n",
       "      <td>2022</td>\n",
       "      <td>7</td>\n",
       "      <td>180</td>\n",
       "    </tr>\n",
       "    <tr>\n",
       "      <th>1</th>\n",
       "      <td>Fintech</td>\n",
       "      <td>WeLab</td>\n",
       "      <td>$5B</td>\n",
       "      <td>2022-03-07</td>\n",
       "      <td>United States</td>\n",
       "      <td>South America</td>\n",
       "      <td>2019</td>\n",
       "      <td>$987M</td>\n",
       "      <td>Zeev Ventures, Menlo Ventures,Crosslink Capital</td>\n",
       "      <td>2022</td>\n",
       "      <td>9</td>\n",
       "      <td>25</td>\n",
       "    </tr>\n",
       "    <tr>\n",
       "      <th>2</th>\n",
       "      <td>Travel</td>\n",
       "      <td>Yanolja</td>\n",
       "      <td>$9B</td>\n",
       "      <td>2021-10-25</td>\n",
       "      <td>South Korea</td>\n",
       "      <td>Europe</td>\n",
       "      <td>2018</td>\n",
       "      <td>$587M</td>\n",
       "      <td>SBI Investment Korea, Partners Investment, GIC</td>\n",
       "      <td>2021</td>\n",
       "      <td>14</td>\n",
       "      <td>9</td>\n",
       "    </tr>\n",
       "    <tr>\n",
       "      <th>3</th>\n",
       "      <td>Mobile &amp; telecommunications</td>\n",
       "      <td>Wacai</td>\n",
       "      <td>$7B</td>\n",
       "      <td>2021-01-24</td>\n",
       "      <td>United States</td>\n",
       "      <td>North America</td>\n",
       "      <td>2020</td>\n",
       "      <td>$369M</td>\n",
       "      <td>Tiger Global Management, Blue Lake Capital, Zh...</td>\n",
       "      <td>2021</td>\n",
       "      <td>9</td>\n",
       "      <td>7</td>\n",
       "    </tr>\n",
       "    <tr>\n",
       "      <th>4</th>\n",
       "      <td>E-commerce &amp; direct-to-consumer</td>\n",
       "      <td>Xingyun Group</td>\n",
       "      <td>$4B</td>\n",
       "      <td>2021-03-16</td>\n",
       "      <td>United States</td>\n",
       "      <td>North America</td>\n",
       "      <td>2017</td>\n",
       "      <td>$950M</td>\n",
       "      <td>Matrix Partners, Passport Capital, Rho Ventures</td>\n",
       "      <td>2021</td>\n",
       "      <td>5</td>\n",
       "      <td>4</td>\n",
       "    </tr>\n",
       "    <tr>\n",
       "      <th>5</th>\n",
       "      <td>Hardware</td>\n",
       "      <td>Locus Robotics</td>\n",
       "      <td>$4B</td>\n",
       "      <td>2021-02-17</td>\n",
       "      <td>United States</td>\n",
       "      <td>North America</td>\n",
       "      <td>2016</td>\n",
       "      <td>$720M</td>\n",
       "      <td>Scale Venture Partners, Bond, Tiger Global Man...</td>\n",
       "      <td>2021</td>\n",
       "      <td>7</td>\n",
       "      <td>4</td>\n",
       "    </tr>\n",
       "    <tr>\n",
       "      <th>6</th>\n",
       "      <td>Internet software &amp; services</td>\n",
       "      <td>apna</td>\n",
       "      <td>$4B</td>\n",
       "      <td>2022-02-08</td>\n",
       "      <td>United States</td>\n",
       "      <td>North America</td>\n",
       "      <td>2019</td>\n",
       "      <td>$859M</td>\n",
       "      <td>Y Combinator, Matrix Partners, Benchmark</td>\n",
       "      <td>2022</td>\n",
       "      <td>13</td>\n",
       "      <td>4</td>\n",
       "    </tr>\n",
       "    <tr>\n",
       "      <th>7</th>\n",
       "      <td>Supply chain, logistics, &amp; delivery</td>\n",
       "      <td>ezCater</td>\n",
       "      <td>$3B</td>\n",
       "      <td>2021-06-21</td>\n",
       "      <td>United States</td>\n",
       "      <td>North America</td>\n",
       "      <td>2016</td>\n",
       "      <td>$593M</td>\n",
       "      <td>Times Internet, Nexus Venture Partners, SoftBa...</td>\n",
       "      <td>2021</td>\n",
       "      <td>12</td>\n",
       "      <td>3</td>\n",
       "    </tr>\n",
       "    <tr>\n",
       "      <th>8</th>\n",
       "      <td>Data management &amp; analytics</td>\n",
       "      <td>Matillion</td>\n",
       "      <td>$2B</td>\n",
       "      <td>2021-09-15</td>\n",
       "      <td>United Kingdom</td>\n",
       "      <td>Europe</td>\n",
       "      <td>2011</td>\n",
       "      <td>$310M</td>\n",
       "      <td>Scale Venture Partners, Sapphire Ventures, Bat...</td>\n",
       "      <td>2021</td>\n",
       "      <td>10</td>\n",
       "      <td>2</td>\n",
       "    </tr>\n",
       "    <tr>\n",
       "      <th>9</th>\n",
       "      <td>Auto &amp; transportation</td>\n",
       "      <td>Socar</td>\n",
       "      <td>$1B</td>\n",
       "      <td>2020-10-16</td>\n",
       "      <td>South Korea</td>\n",
       "      <td>Asia</td>\n",
       "      <td>2012</td>\n",
       "      <td>$408M</td>\n",
       "      <td>Bain Capital, Altos Ventures, Songhyun Investment</td>\n",
       "      <td>2020</td>\n",
       "      <td>8</td>\n",
       "      <td>1</td>\n",
       "    </tr>\n",
       "    <tr>\n",
       "      <th>10</th>\n",
       "      <td>Consumer &amp; retail</td>\n",
       "      <td>Rothy's</td>\n",
       "      <td>$1B</td>\n",
       "      <td>2021-12-21</td>\n",
       "      <td>United States</td>\n",
       "      <td>North America</td>\n",
       "      <td>2016</td>\n",
       "      <td>$484M</td>\n",
       "      <td>Khosla Ventures, Horizons Ventures, Founders Fund</td>\n",
       "      <td>2021</td>\n",
       "      <td>6</td>\n",
       "      <td>1</td>\n",
       "    </tr>\n",
       "    <tr>\n",
       "      <th>11</th>\n",
       "      <td>Health</td>\n",
       "      <td>Modern Health</td>\n",
       "      <td>$1B</td>\n",
       "      <td>2021-02-11</td>\n",
       "      <td>United States</td>\n",
       "      <td>North America</td>\n",
       "      <td>2017</td>\n",
       "      <td>$62M</td>\n",
       "      <td>Lindeman Asia Investment, Nichi-Iko Pharmaceut...</td>\n",
       "      <td>2021</td>\n",
       "      <td>19</td>\n",
       "      <td>1</td>\n",
       "    </tr>\n",
       "  </tbody>\n",
       "</table>\n",
       "</div>"
      ],
      "text/plain": [
       "                               Industry         Company Valuation Date Joined  \\\n",
       "0               Artificial intelligence          Veriff       $7B  2022-01-26   \n",
       "1                               Fintech           WeLab       $5B  2022-03-07   \n",
       "2                                Travel         Yanolja       $9B  2021-10-25   \n",
       "3           Mobile & telecommunications           Wacai       $7B  2021-01-24   \n",
       "4       E-commerce & direct-to-consumer   Xingyun Group       $4B  2021-03-16   \n",
       "5                              Hardware  Locus Robotics       $4B  2021-02-17   \n",
       "6          Internet software & services            apna       $4B  2022-02-08   \n",
       "7   Supply chain, logistics, & delivery         ezCater       $3B  2021-06-21   \n",
       "8           Data management & analytics       Matillion       $2B  2021-09-15   \n",
       "9                 Auto & transportation           Socar       $1B  2020-10-16   \n",
       "10                    Consumer & retail         Rothy's       $1B  2021-12-21   \n",
       "11                               Health   Modern Health       $1B  2021-02-11   \n",
       "\n",
       "    Country/Region      Continent  Year Founded Funding  \\\n",
       "0    United States  North America          2018     $8B   \n",
       "1    United States  South America          2019   $987M   \n",
       "2      South Korea         Europe          2018   $587M   \n",
       "3    United States  North America          2020   $369M   \n",
       "4    United States  North America          2017   $950M   \n",
       "5    United States  North America          2016   $720M   \n",
       "6    United States  North America          2019   $859M   \n",
       "7    United States  North America          2016   $593M   \n",
       "8   United Kingdom         Europe          2011   $310M   \n",
       "9      South Korea           Asia          2012   $408M   \n",
       "10   United States  North America          2016   $484M   \n",
       "11   United States  North America          2017    $62M   \n",
       "\n",
       "                                     Select Investors  Year Joined  \\\n",
       "0   Viola Ventures, Insight Partners, ClalTech, Go...         2022   \n",
       "1     Zeev Ventures, Menlo Ventures,Crosslink Capital         2022   \n",
       "2      SBI Investment Korea, Partners Investment, GIC         2021   \n",
       "3   Tiger Global Management, Blue Lake Capital, Zh...         2021   \n",
       "4     Matrix Partners, Passport Capital, Rho Ventures         2021   \n",
       "5   Scale Venture Partners, Bond, Tiger Global Man...         2021   \n",
       "6            Y Combinator, Matrix Partners, Benchmark         2022   \n",
       "7   Times Internet, Nexus Venture Partners, SoftBa...         2021   \n",
       "8   Scale Venture Partners, Sapphire Ventures, Bat...         2021   \n",
       "9   Bain Capital, Altos Ventures, Songhyun Investment         2020   \n",
       "10  Khosla Ventures, Horizons Ventures, Founders Fund         2021   \n",
       "11  Lindeman Asia Investment, Nichi-Iko Pharmaceut...         2021   \n",
       "\n",
       "    year_to_unicorn  Valuation Amount  \n",
       "0                 7               180  \n",
       "1                 9                25  \n",
       "2                14                 9  \n",
       "3                 9                 7  \n",
       "4                 5                 4  \n",
       "5                 7                 4  \n",
       "6                13                 4  \n",
       "7                12                 3  \n",
       "8                10                 2  \n",
       "9                 8                 1  \n",
       "10                6                 1  \n",
       "11               19                 1  "
      ]
     },
     "execution_count": 47,
     "metadata": {},
     "output_type": "execute_result"
    }
   ],
   "source": [
    "max_valuation"
   ]
  },
  {
   "cell_type": "code",
   "execution_count": 45,
   "metadata": {},
   "outputs": [
    {
     "data": {
      "image/png": "[encoded data removed]",
      "text/plain": [
       "<Figure size 1080x720 with 1 Axes>"
      ]
     },
     "metadata": {
      "needs_background": "light"
     },
     "output_type": "display_data"
    }
   ],
   "source": [
    "plt.figure(figsize = (15,10))\n",
    "plt.bar(x=sample['Industry'], height=sample['Valuation Amount'], label = 'Max Valuation per Industry')\n",
    "\n",
    "# Set title\n",
    "plt.title('Max Company Valuation per Industry of Unicorn Companies',fontsize = 18)\n",
    "\n",
    "# Set x-axis label\n",
    "plt.xlabel('Companies per Industry',fontsize = 16)\n",
    "\n",
    "# Set y-axis label\n",
    "plt.ylabel('Max Valuation Amount', fontsize = 16)\n",
    "\n",
    "# Rotate labels on the x-axis as a way to avoid overlap in the positions of the text  \n",
    "plt.xticks(rotation = 45, horizontalalignment = 'right', fontsize = 12)\n",
    "\n",
    "# Display the plot\n",
    "plt.legend(fontsize = 12)\n",
    "plt.show()"
   ]
  },
  {
   "cell_type": "markdown",
   "metadata": {
    "id": "NnL6YrfFoA3G",
    "jp-MarkdownHeadingCollapsed": true,
    "tags": []
   },
   "source": [
    "<details>\n",
    "  <summary><h4><strong>Hint 1</strong></h4></summary>\n",
    "\n",
    "Refer to what you have learned about creating bar plots as part of [exploratory data analysis](https://www.coursera.org/learn/go-beyond-the-numbers-translate-data-into-insight/lecture/4k4Vg/eda-using-basic-data-functions-with-python).\n",
    "\n",
    "</details>"
   ]
  },
  {
   "cell_type": "markdown",
   "metadata": {
    "id": "bo8rC9dZoA3H",
    "jp-MarkdownHeadingCollapsed": true,
    "tags": []
   },
   "source": [
    "<details>\n",
    "  <summary><h4><strong>Hint 2</strong></h4></summary>\n",
    "\n",
    "Use the function in the `matplotlib.pyplot` module that allows you to create a bar plot, specifying the category and height for each bar. \n",
    "\n",
    "Use the functions in the `matplotlib.pyplot` module that allow you to set the title, x-axis label, and y-axis label of plots. In that module, there are also functions for rotating the labels on the x-axis and displaying the plot. \n",
    "\n",
    "</details>"
   ]
  },
  {
   "cell_type": "markdown",
   "metadata": {
    "id": "TkeTAsUooA3J",
    "jp-MarkdownHeadingCollapsed": true,
    "tags": []
   },
   "source": [
    "<details>\n",
    "  <summary><h4><strong>Hint 3</strong></h4></summary>\n",
    "\n",
    "Use the `plt.bar()` to create the bar plot, passing in the categories and heights of the bars.\n",
    "\n",
    "Use `plt.title()`, `plt.xlabel()`, and `plt.ylabel()` to set the title, x-axis label, and y-axis label, respectively. \n",
    "\n",
    "Use `plt.xticks()` to rotate labels on the x-axis of a plot. The parameters `rotation=45, horizontalalignment='right'` can be passed in to rotate the labels by 45 degrees and align the labels to the right. \n",
    "\n",
    "Use `plt.show()` to display a plot.\n",
    "\n",
    "</details>"
   ]
  },
  {
   "cell_type": "markdown",
   "metadata": {
    "id": "441c0e4b-56bf-413c-9d40-abe1e5f13253"
   },
   "source": [
    "**Question:** What do you observe from this bar plot? "
   ]
  },
  {
   "cell_type": "markdown",
   "metadata": {
    "id": "p_XNHFiPlVvA"
   },
   "source": [
    "**Answer:**\n",
    ">Reviewing the above bar plot we can see that th industry that contains the top valuated companies is the 'Artificial Intelligence' with over than 175B dollars. 'Mobile & telecommunications' are the least evaluated among the industries with approximately 10B dollars."
   ]
  },
  {
   "cell_type": "markdown",
   "metadata": {
    "id": "c77e7f0f-d2b9-4464-8a7c-9575d1e1ef9f"
   },
   "source": [
    "## Considerations"
   ]
  },
  {
   "cell_type": "markdown",
   "metadata": {
    "id": "uPq1FOvCZI6w"
   },
   "source": [
    "**What are some key takeaways that you learned from this lab?**"
   ]
  },
  {
   "cell_type": "markdown",
   "metadata": {
    "id": "nOPK-j3sZLsm"
   },
   "source": [
    "**Answer:**\n",
    "> The highlights of this lab are the practice upon the manipulation of the data to get them ready for visualizations. The data types convertions in order to bring them to the desired state to process them, as well as the actual building and execution of visualization code to extract information about our dataset, are the key takeaways from this activity."
   ]
  },
  {
   "cell_type": "markdown",
   "metadata": {
    "id": "d2NnpyO_ZL6x"
   },
   "source": [
    "**What findings would you share with others?**"
   ]
  },
  {
   "cell_type": "markdown",
   "metadata": {
    "id": "goG0jEeQZOIr"
   },
   "source": [
    "The important insights that I can share from this activity are:\n",
    ">The important insights that I can share from this activity are:\n",
    "The companies in the Health industry needed a significant amount of time in comparison to other industries, to join the unicorn firms club. More specifically, they needed almost 100 years, while the second max 'time_to_unicorn' industry, the consumer and retail, needed less than 40 years. That's ~250% more time in years. In addition, while it took so long for companies in the Health industry to reach the unicorn level, their evaluation status is among the lowest in the list of industries. On the other hand, Artificial intelligence is an industry that is both among the industries that took the least time to become unicorns and among the most valuated industries. If we take those two examples stand-alone, then we can assume a negative relationship between the time that a company needs to become a billion dollars firm and the height of its evaluation. Of course, more analysis needs to be done to come to this conclusion."
   ]
  },
  {
   "cell_type": "markdown",
   "metadata": {
    "id": "TLioKMc0ZTZi"
   },
   "source": [
    "**What recommendations would you share with stakeholders based on these findings?**"
   ]
  },
  {
   "cell_type": "markdown",
   "metadata": {
    "id": "mVFm54BfZTv5"
   },
   "source": [
    ">I would suggest to the stakeholders to focus on the industries, the companies of which, have done less than 40 years to become unicorns, and they are among the 4 most valuated on our list. A small time period to join the unicorn club shows the industry's rapid escalation in its development, a fact that makes it a relevant and promising industry of the current time period. The strong evaluation which accompanies it shows stability and reflects a secure choice for investment."
   ]
  },
  {
   "cell_type": "markdown",
   "metadata": {
    "id": "R9sAADZgr-YI"
   },
   "source": [
    "**References**\n",
    "\n",
    "Bhat, M.A. (2022, March). [*Unicorn Companies*](https://www.kaggle.com/datasets/mysarahmadbhat/unicorn-companies). \n",
    "\n"
   ]
  }
 ],
 "metadata": {
  "colab": {
   "collapsed_sections": [],
   "name": "SR-005_Learner_Facing_Lab_Round4.ipynb",
   "provenance": [],
   "toc_visible": true
  },
  "kernelspec": {
   "display_name": "Python 3",
   "language": "python",
   "name": "python3"
  },
  "language_info": {
   "codemirror_mode": {
    "name": "ipython",
    "version": 3
   },
   "file_extension": ".py",
   "mimetype": "text/x-python",
   "name": "python",
   "nbconvert_exporter": "python",
   "pygments_lexer": "ipython3",
   "version": "3.7.6"
  },
  "toc-autonumbering": false,
  "toc-showtags": false
 },
 "nbformat": 4,
 "nbformat_minor": 5
}
